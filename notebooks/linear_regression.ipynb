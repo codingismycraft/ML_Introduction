{
 "cells": [
  {
   "cell_type": "markdown",
   "source": [
    "## Linear Regression\n",
    "\n",
    "Linear Regression is one of the simplest, oldest and more used\n",
    "methods of data analysis and in many cases is the starting point\n",
    "when we try to derive a model by fitting a straight line to data.\n",
    "\n",
    "In its simplest version we have one independent and one depended\n",
    "variables and we are trying to a find a **linear** relationship\n",
    "between them that will allow us to make predictions based on unseen\n",
    "before values.\n",
    "\n",
    "### A Trivial Case\n",
    "\n",
    "The data that we will use for this example will be coming\n",
    "from **Auto Insurance in Sweden** from this [link](https://college.cengage.com/mathematics/brase/understandable_statistics/7e/students/datasets/slr/frames/frame.html)\n",
    "\n",
    "**Auto Insurance in Sweden**\n",
    "\n",
    "X = number of claims\n",
    "\n",
    "Y = total payment for all the claims in thousands of Swedish Kronor\n",
    "\n",
    "Let's load and plot the data to understand the problem better:\n",
    "\n",
    "\n"
   ],
   "metadata": {
    "collapsed": false,
    "pycharm": {
     "name": "#%% md\n"
    }
   }
  },
  {
   "cell_type": "code",
   "execution_count": 13,
   "metadata": {
    "pycharm": {
     "name": "#%%\n"
    }
   },
   "outputs": [],
   "source": [
    "import pandas as pd\n",
    "import matplotlib.pyplot as plt"
   ]
  },
  {
   "cell_type": "code",
   "execution_count": 8,
   "metadata": {
    "pycharm": {
     "name": "#%%\n"
    }
   },
   "outputs": [
    {
     "data": {
      "text/plain": "      X      Y\n0   108  392.5\n1    19   46.2\n2    13   15.7\n3   124  422.2\n4    40  119.4\n..  ...    ...\n58    9   87.4\n59   31  209.8\n60   14   95.5\n61   53  244.6\n62   26  187.5\n\n[63 rows x 2 columns]",
      "text/html": "<div>\n<style scoped>\n    .dataframe tbody tr th:only-of-type {\n        vertical-align: middle;\n    }\n\n    .dataframe tbody tr th {\n        vertical-align: top;\n    }\n\n    .dataframe thead th {\n        text-align: right;\n    }\n</style>\n<table border=\"1\" class=\"dataframe\">\n  <thead>\n    <tr style=\"text-align: right;\">\n      <th></th>\n      <th>X</th>\n      <th>Y</th>\n    </tr>\n  </thead>\n  <tbody>\n    <tr>\n      <th>0</th>\n      <td>108</td>\n      <td>392.5</td>\n    </tr>\n    <tr>\n      <th>1</th>\n      <td>19</td>\n      <td>46.2</td>\n    </tr>\n    <tr>\n      <th>2</th>\n      <td>13</td>\n      <td>15.7</td>\n    </tr>\n    <tr>\n      <th>3</th>\n      <td>124</td>\n      <td>422.2</td>\n    </tr>\n    <tr>\n      <th>4</th>\n      <td>40</td>\n      <td>119.4</td>\n    </tr>\n    <tr>\n      <th>...</th>\n      <td>...</td>\n      <td>...</td>\n    </tr>\n    <tr>\n      <th>58</th>\n      <td>9</td>\n      <td>87.4</td>\n    </tr>\n    <tr>\n      <th>59</th>\n      <td>31</td>\n      <td>209.8</td>\n    </tr>\n    <tr>\n      <th>60</th>\n      <td>14</td>\n      <td>95.5</td>\n    </tr>\n    <tr>\n      <th>61</th>\n      <td>53</td>\n      <td>244.6</td>\n    </tr>\n    <tr>\n      <th>62</th>\n      <td>26</td>\n      <td>187.5</td>\n    </tr>\n  </tbody>\n</table>\n<p>63 rows × 2 columns</p>\n</div>"
     },
     "execution_count": 8,
     "metadata": {},
     "output_type": "execute_result"
    }
   ],
   "source": [
    "_ = df.plot.scatter(x='X', y='Y', colormap='viridis')"
   ]
  },
  {
   "cell_type": "code",
   "execution_count": 7,
   "metadata": {
    "pycharm": {
     "name": "#%%\n"
    }
   },
   "outputs": [
    {
     "data": {
      "text/plain": "<Figure size 432x288 with 1 Axes>",
      "image/png": "[encoded data removed]"
     },
     "metadata": {
      "needs_background": "light"
     },
     "output_type": "display_data"
    }
   ],
   "source": []
  },
  {
   "cell_type": "markdown",
   "source": [
    "Our objective is to find a straight line that will fit the above\n",
    "data points as good as possible.\n",
    "\n",
    "In other words are looking for a line that can be expressed by the following\n",
    "equation:\n",
    "\n",
    "\n",
    "$y = a + b \\times c$\n",
    "\n",
    "Let's give some random values to $a$ and $b$ and visualize how the straight line\n",
    "looks when compared to the testing data:"
   ],
   "metadata": {
    "collapsed": false,
    "pycharm": {
     "name": "#%% md\n"
    }
   }
  },
  {
   "cell_type": "code",
   "execution_count": 29,
   "outputs": [
    {
     "data": {
      "text/plain": "<Figure size 432x288 with 1 Axes>",
      "image/png": "[encoded data removed]"
     },
     "metadata": {
      "needs_background": "light"
     },
     "output_type": "display_data"
    }
   ],
   "source": [
    "a = 2\n",
    "b = 1\n",
    "y = lambda x: a + b * x\n",
    "X = [i for i in range(1, 120)]\n",
    "Y = [y(i) for i in range(1, 120)]\n",
    "\n",
    "df.plot.scatter(x='X', y='Y', colormap='viridis')\n",
    "_ = plt.plot(X, Y, color='r')"
   ],
   "metadata": {
    "collapsed": false,
    "pycharm": {
     "name": "#%%\n"
    }
   }
  },
  {
   "cell_type": "markdown",
   "source": [
    "Note that the random values that we have given to $a$ and $b$ result\n",
    "to a line that is not very well correlated with our data.\n",
    "\n",
    "After playing a little with the values we can see the following\n",
    "are fitting our data much better as we can see from this plot:\n"
   ],
   "metadata": {
    "collapsed": false,
    "pycharm": {
     "name": "#%% md\n"
    }
   }
  },
  {
   "cell_type": "code",
   "execution_count": 30,
   "outputs": [
    {
     "data": {
      "text/plain": "<Figure size 432x288 with 1 Axes>",
      "image/png": "[encoded data removed]"
     },
     "metadata": {
      "needs_background": "light"
     },
     "output_type": "display_data"
    }
   ],
   "source": [
    "a = 32\n",
    "b = 4\n",
    "y = lambda x: a + b * x\n",
    "X = [i for i in range(1, 120)]\n",
    "Y = [y(i) for i in range(1, 120)]\n",
    "\n",
    "df.plot.scatter(x='X', y='Y', colormap='viridis')\n",
    "_ = plt.plot(X, Y, color='r')"
   ],
   "metadata": {
    "collapsed": false,
    "pycharm": {
     "name": "#%%\n"
    }
   }
  },
  {
   "cell_type": "markdown",
   "source": [
    "The mathematical method to identify the best possible values for\n",
    "$a$ (**y-intercept**) and $b$ (**slope**) is called **Least Squares\n",
    "Regression Line**\n",
    "\n",
    "An informal definition of the **Least Squares Line** is that it is the line\n",
    "that given a set of points in the plane it minimizes the sum of distances\n",
    "from them.\n",
    "\n"
   ],
   "metadata": {
    "collapsed": false,
    "pycharm": {
     "name": "#%% md\n"
    }
   }
  },
  {
   "cell_type": "code",
   "execution_count": null,
   "outputs": [],
   "source": [],
   "metadata": {
    "collapsed": false,
    "pycharm": {
     "name": "#%%\n"
    }
   }
  }
 ],
 "metadata": {
  "kernelspec": {
   "display_name": "Python 3 (ipykernel)",
   "language": "python",
   "name": "python3"
  },
  "language_info": {
   "codemirror_mode": {
    "name": "ipython",
    "version": 3
   },
   "file_extension": ".py",
   "mimetype": "text/x-python",
   "name": "python",
   "nbconvert_exporter": "python",
   "pygments_lexer": "ipython3",
   "version": "3.10.4"
  }
 },
 "nbformat": 4,
 "nbformat_minor": 1
}