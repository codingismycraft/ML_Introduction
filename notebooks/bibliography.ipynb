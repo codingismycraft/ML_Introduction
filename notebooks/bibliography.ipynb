{
 "cells": [
  {
   "cell_type": "markdown",
   "id": "e2e3b3d2",
   "metadata": {},
   "source": [
    "### Bibliography \n",
    "\n",
    "Some of the best books I have studied during the years about NN are the following:\n",
    "<table>\n",
    "    <tr>\n",
    "        <td>\n",
    "            <img src=\"./images/neural-smithing.jpg\"\n",
    "                 style=\"float:center;width:120px;\"/>\n",
    "        </td>\n",
    "        <td style=\"text-align:left\">\n",
    "            Very comprehensive coverage of the basics of NN; strongly\n",
    "            recommended if you want\n",
    "            to delve in to the related theory and math.\n",
    "        </td>\n",
    "        <td>\n",
    "            <img src=\"./images/deep-learning.jpg\"\n",
    "                 style=\"float:center;width:120px;\"/>\n",
    "        </td>\n",
    "        <td style=\"text-align:left\">\n",
    "            Covers the theory behind the modern evolutions of NN covering\n",
    "            convolutional and recurrent NN.\n",
    "        </td>\n",
    "    </tr>\n",
    "    <tr>\n",
    "        <td>\n",
    "            <img src=\"./images/machine-learning-theodoridis.jpg\"\n",
    "                 style=\"float:center;width:120px;\"/>\n",
    "        </td>\n",
    "        <td style=\"text-align:left\">\n",
    "            Advanced text, coverings topics like Sparse data, Learning Kernels,\n",
    "            Deep Learning.\n",
    "        </td>\n",
    "        <td>\n",
    "            <img src=\"./images/OO-NN-CPP.jpg\"\n",
    "                 style=\"float:center;width:120px;\"/>\n",
    "        </td>\n",
    "        <td style=\"text-align:left\">\n",
    "            Older text, my first book on NN (late nineties), still has some\n",
    "            something to teach us (needs a solid understanding of C++ though!)\n",
    "        </td>\n",
    "    </tr>\n",
    "    <tr>\n",
    "        <td>\n",
    "            <img src=\"./images/hundred-page-ml-book.jpg\"\n",
    "                 style=\"float:center;width:120px;\"/>\n",
    "        </td>\n",
    "        <td style=\"text-align:left\">\n",
    "            Summarizes the theory behind NN, good starting point.\n",
    "        </td>\n",
    "        <td>\n",
    "            <img src=\"./images/math-for-machine-learning.jpg\"\n",
    "                 style=\"float:center;width:120px;\"/>\n",
    "        </td>\n",
    "        <td style=\"text-align:left\">\n",
    "            Perfect if you need a math refresher.\n",
    "        </td>\n",
    "    </tr>\n",
    "    <tr>\n",
    "        <td>\n",
    "            <img src=\"./images/bishop.jpg\" style=\"float:center;width:120px;\"/>\n",
    "        </td>\n",
    "        <td>\n",
    "            Covers all the theory behind machine learning; some people complain\n",
    "            about its\n",
    "            dryness but without a doubt is one of the most important texts in ML\n",
    "        </td>\n",
    "        <td>\n",
    "            <img src=\"./images/foundations-of-machine-learning.jpg\"\n",
    "                 style=\"float:center;width:120px;\"/>\n",
    "        </td>\n",
    "        <td>\n",
    "            Geared towards a \"scientific\" view of the ML topic, I (rarerly) use\n",
    "            it as reference.\n",
    "        </td>\n",
    "    </tr>\n",
    "    <tr>\n",
    "        <td>\n",
    "            <img src=\"./images/applications-with-keras-heaton.jpg\" style=\"float:center;width:120px;\"/>\n",
    "        </td>\n",
    "        <td>\n",
    "            Heaton's books are practical, easy to read and accurate. Here he it dealing with Keras and \n",
    "            tensorflow in a well written and relatively simple way to follow.\n",
    "        </td>\n",
    "        <td>\n",
    "            <img src=\"./images/heaton-c-sharp.jpg\"\n",
    "                 style=\"float:center;width:120px;\"/>\n",
    "        </td>\n",
    "        <td>\n",
    "            Older book from Heaton; antiquated but I am adding it here since it is one of the first books\n",
    "            that came up in the practitioner level of ML and in the past I had used it a lot.\n",
    "        </td>\n",
    "    </tr>\n",
    "    <tr>\n",
    "        <td>\n",
    "            <img src=\"./images/hands-on-machine-learning.jpg\" style=\"float:center;width:120px;\"/>\n",
    "        </td>\n",
    "        <td>\n",
    "            One of the very first books I read about tensorflow / keras (in a previous edition). \n",
    "            Widely used and suggested by many as one of the best books on this topic.\n",
    "        </td>\n",
    "        <td>\n",
    "            <img src=\"./images/real-world-machine-learning.jpg\"\n",
    "                 style=\"float:center;width:120px;\"/>\n",
    "        </td>\n",
    "        <td>\n",
    "            Hands on approach, light in math with several interesting case studies\n",
    "        </td>\n",
    "    </tr>\n",
    "    <tr>\n",
    "        <td>\n",
    "            <img src=\"./images/intro-to-genetic-algorithms.jpg\" style=\"float:center;width:120px;\"/>\n",
    "        </td>\n",
    "        <td>\n",
    "            One of my first books on the topic of genetic algorithms and one of the \n",
    "            best I have read in the topic of machine learning.\n",
    "        </td>\n",
    "        <td>\n",
    "            <img src=\"./images/genetic-algorithms.jpg\"\n",
    "                 style=\"float:center;width:120px;\"/>\n",
    "        </td>\n",
    "        <td>\n",
    "            Another older book I have read about genetic algorithms, antiquated by now..\n",
    "        </td>\n",
    "    </tr>\n",
    "</table>"
   ]
  },
  {
   "cell_type": "code",
   "execution_count": 16,
   "id": "457d5ab4",
   "metadata": {},
   "outputs": [
    {
     "data": {
      "text/html": [
       "\n",
       "        <iframe\n",
       "            width=\"100%\"\n",
       "            height=\"300\"\n",
       "            src=\"./data/yolo-paper.pdf\"\n",
       "            frameborder=\"0\"\n",
       "            allowfullscreen\n",
       "            \n",
       "        ></iframe>\n",
       "        "
      ],
      "text/plain": [
       "<IPython.lib.display.IFrame at 0x7f73ed657790>"
      ]
     },
     "execution_count": 16,
     "metadata": {},
     "output_type": "execute_result"
    }
   ],
   "source": [
    "from IPython.display import IFrame\n",
    "IFrame(\"./data/yolo-paper.pdf\", width=\"100%\", height=300)"
   ]
  },
  {
   "cell_type": "code",
   "execution_count": 14,
   "id": "06576e85",
   "metadata": {},
   "outputs": [
    {
     "data": {
      "text/html": [
       "\n",
       "        <iframe\n",
       "            width=\"100%\"\n",
       "            height=\"300\"\n",
       "            src=\"./data/origin-deep-learning.pdf\"\n",
       "            frameborder=\"0\"\n",
       "            allowfullscreen\n",
       "            \n",
       "        ></iframe>\n",
       "        "
      ],
      "text/plain": [
       "<IPython.lib.display.IFrame at 0x7f73ed655870>"
      ]
     },
     "execution_count": 14,
     "metadata": {},
     "output_type": "execute_result"
    }
   ],
   "source": [
    "IFrame(\"./data/origin-deep-learning.pdf\", width=\"100%\", height=300)"
   ]
  },
  {
   "cell_type": "code",
   "execution_count": 12,
   "id": "ca7632dd",
   "metadata": {},
   "outputs": [
    {
     "data": {
      "text/html": [
       "\n",
       "        <iframe\n",
       "            width=\"100%\"\n",
       "            height=\"600\"\n",
       "            src=\"./data/original-back-propagation.pdf\"\n",
       "            frameborder=\"0\"\n",
       "            allowfullscreen\n",
       "            \n",
       "        ></iframe>\n",
       "        "
      ],
      "text/plain": [
       "<IPython.lib.display.IFrame at 0x7f73ed655030>"
      ]
     },
     "execution_count": 12,
     "metadata": {},
     "output_type": "execute_result"
    }
   ],
   "source": [
    "IFrame(\"./data/original-back-propagation.pdf\", width=\"100%\", height=600)"
   ]
  },
  {
   "cell_type": "code",
   "execution_count": null,
   "id": "026fbadb",
   "metadata": {},
   "outputs": [],
   "source": []
  }
 ],
 "metadata": {
  "kernelspec": {
   "display_name": "Python 3 (ipykernel)",
   "language": "python",
   "name": "python3"
  },
  "language_info": {
   "codemirror_mode": {
    "name": "ipython",
    "version": 3
   },
   "file_extension": ".py",
   "mimetype": "text/x-python",
   "name": "python",
   "nbconvert_exporter": "python",
   "pygments_lexer": "ipython3",
   "version": "3.10.4"
  }
 },
 "nbformat": 4,
 "nbformat_minor": 5
}
