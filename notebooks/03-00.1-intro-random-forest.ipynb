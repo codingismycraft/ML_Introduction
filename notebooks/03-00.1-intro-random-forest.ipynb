{
 "cells": [
  {
   "cell_type": "markdown",
   "id": "8380c357",
   "metadata": {},
   "source": [
    "# Random Forest\n",
    "\n",
    "Random forest is a Supervised Machine Learning Algorithm that is used widely in Classification and Regression problems. \n",
    "\n",
    "One of the most important features of the Random Forest Algorithm is that it can handle the data set containing continuous variables as in the case of regression and categorical variables as in the case of classification. It usually performs better for classification problems.\n",
    "\n",
    "### How it works?\n",
    "\n",
    "The random forest algorithm creates and trains multiple decision trees which are combined to a single response taking their winner vote for classification or the average value  for regression problems.\n",
    "\n",
    "\n",
    "### What is a Decision Tree? \n",
    "\n",
    "From a high level we can define Decision Trees as algorithms that can be used both classification and regression tasks providing a model to make predictions based on a universe of labeled training data.\n",
    "\n",
    "A decision tree consists of several layers of IF-THEN-ELSE \"forks\" that are generated automatically during the training phase to fit the provided data.\n",
    "\n",
    "\n",
    "## Advantages\n",
    "- A decision tree is easy to understand and interpret.\n",
    "- Expert opinion and preferences can be included, as well as hard data.\n",
    "- Can be used with other decision techniques.\n",
    "- New scenarios can easily be added.\n",
    "\n",
    "## Disadvantages\n",
    "- If a decision tree is used for categorical variables with multiple levels, those variables with more levels will have more information gain.\n",
    "\n",
    "- Calculations can quickly become very complex, although this is usually only a problem if the tree is being created by hand.\n",
    "\n",
    "\n",
    "## When should I consider using RandomForest\n",
    "\n",
    "#### Used only for tabular data\n",
    "\n",
    "Random forests can only work with structured (tabular) data, meaning data that can be represented\n",
    "as csv or any other similar technique. Unstructured data like images, speech or text cannot be\n",
    "processed from random forest and most likely they will require some form of a Neural Network like CNN\n",
    "or RNN for example.\n",
    "\n",
    "#### Data requirements\n",
    "\n",
    "Although \"by book\" Random Forests should be able to handle both missing and nominal\n",
    "data the library that is widely used in the python world (SkLearn) does not comply\n",
    "with it and in order to use it we will need to:\n",
    "\n",
    "- Clean missing values (either removing them or adjusting them)\n",
    "- Convert nominal data to categorical\n",
    "- Unlike to NN in random forests there in no need to normalize or scale the data\n",
    "\n",
    "# Example of Random Forest\n",
    "\n",
    "Solving the iris dataset using Random Forest results to the following picture:\n",
    "\n",
    "\n",
    "<img src=\"./images/iris-decission-tree.png\" style=\"width:100%\"/>"
   ]
  },
  {
   "cell_type": "code",
   "execution_count": null,
   "id": "1c62da5d",
   "metadata": {},
   "outputs": [],
   "source": []
  }
 ],
 "metadata": {
  "kernelspec": {
   "display_name": "Python 3 (ipykernel)",
   "language": "python",
   "name": "python3"
  },
  "language_info": {
   "codemirror_mode": {
    "name": "ipython",
    "version": 3
   },
   "file_extension": ".py",
   "mimetype": "text/x-python",
   "name": "python",
   "nbconvert_exporter": "python",
   "pygments_lexer": "ipython3",
   "version": "3.10.4"
  }
 },
 "nbformat": 4,
 "nbformat_minor": 5
}
