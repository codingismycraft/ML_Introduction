{
 "cells": [
  {
   "cell_type": "markdown",
   "id": "9f00a76e",
   "metadata": {
    "pycharm": {
     "name": "#%% md\n"
    }
   },
   "source": [
    "# INTRODUCTION  TO NEURAL NETWORKS"
   ]
  },
  {
   "cell_type": "markdown",
   "id": "71f25f6d",
   "metadata": {
    "pycharm": {
     "name": "#%% md\n"
    }
   },
   "source": [
    "Artificial neural networks (ANN) are inspired from biological neural networks and to some extend try to mimic the way the human brain is learning.  The human brain contains over 100 billion interconnected neurons and each of them one consists of three main components: soma, axon and dendrietes as can be seem in the following image (taken from https://en.wikipedia.org/wiki/Biological_neuron_model)\n",
    "\n",
    "\n",
    "\n",
    "The exact way of how the biological neural networks work is not fully understood. The brain consists of billions of brain cells and trillions of interconnections thus it is very complicated to be understood and replicated to a closely mimicking it model. \n",
    "\n",
    "A loose analogy of how the brain is functioning can be seen in the following picture.  A brain cell is \"wired\" to an 'axon\" which allows electrical current; the axon is connected with synapses that can \"fire\" when serving as input meaning that they can send a message to the brain cell (also known as neuron) which in turn will fire again and ultimately activate the synaptic output which will make the signal available for other neurons.  The strength of the signal is not the same but it depends on the dendrites that are \"firing\" it.\n",
    "\n",
    "<img src=\"./images/biological-nn-summary.png\" style=\"float:center;width:420px;\"/>\n",
    "\n",
    "### How ANN resembles biological neural networks\n",
    "\n",
    "In Artificial Neural Networks we follow a loose analogy that tries to resemble the way the brain is functioning\n",
    "by using a linear connectivity of subsequent layeres of **Neurons** that are connected \n",
    "via **synapses** each one having its own **weight**.\n",
    "\n",
    "Based ont the analog input that each neuron receives it **fires** a new signal which is transimited\n",
    "to the following layer until it reaches the **target** value, which is just another name for the\n",
    "output that we are trying to predict.\n",
    "\n",
    "The ANN the interaction between nodes is simulated using a polynomiam which connects each neural with a previous layer of neurons as can be seen here:\n",
    "\n",
    "<img src=\"./images/ann-summary.png\" style=\"float:center;width:420px;\"/>\n",
    "\n",
    "Some of the most important properties of ANN are the following:\n",
    "\n",
    "| Property      | Description |\n",
    "| ----------- | ----------- |\n",
    "| **Exploits Non linearity** | Can model any other continue function having higher powers of x or trigonometric functions for example|\n",
    "| **Adaptivity**   | The ANN can adopt its free parameters and continue learning new patters as they are presented to it by adjusting the synaptic weights|\n",
    "|**Fault Tolerance**|Since the ANN can consist of thousands of synaptic weights, it is very robust and fault tolerant as a few \"bad\" synapses do not affect its behavior|\n",
    "|**Evidencial Response**|The output of an ANN is also paired with a probability of correctnes which provides additional confidence in it|\n",
    "\n",
    "\n",
    "#### ANN compared to Biological NN\n",
    "\n",
    "| MLP ANN           | Real nervous system                                        |\n",
    "|-------------------|------------------------------------------------------------|\n",
    "| feedforward       | recurrent                                                  |\n",
    "| fully-connected   | mostly local connections                                   |\n",
    "| uniform structure | functional modules                                         |\n",
    "| a few node types  | hundreds of neuron types                                   |\n",
    "| 10–1000 nodes     | human brain: O(1011) neurons O(1015) synapses              |\n",
    "| mostly static     | dynamic: spike trains facilitation fatigue synchronization |\n",
    "    "
   ]
  }
 ],
 "metadata": {
  "kernelspec": {
   "display_name": "Python 3 (ipykernel)",
   "language": "python",
   "name": "python3"
  },
  "language_info": {
   "codemirror_mode": {
    "name": "ipython",
    "version": 3
   },
   "file_extension": ".py",
   "mimetype": "text/x-python",
   "name": "python",
   "nbconvert_exporter": "python",
   "pygments_lexer": "ipython3",
   "version": "3.10.4"
  }
 },
 "nbformat": 4,
 "nbformat_minor": 5
}