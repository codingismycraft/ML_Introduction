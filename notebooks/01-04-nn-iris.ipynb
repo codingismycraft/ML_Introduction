{
 "cells": [
  {
   "cell_type": "markdown",
   "id": "f4b819ce",
   "metadata": {},
   "source": [
    "# An ANN model to predict the Iris species\n",
    "\n",
    "The Iris data set is one of the classical datasets used as an introduction\n",
    "to machine learning.  It was introduced by [Sir Ronald Aylmer Fisher](https://en.wikipedia.org/wiki/Ronald_Fisher) (statistician and\n",
    "biologist) in his 1936 paper \"The use of multiple measurements in taxonomic\n",
    "problems\".  Consists of 150 samples, 50 for each species of the Iries\n",
    "flower, named setosa, virginica and versicolor while for each sample\n",
    "we meanure the length and width of the sepals and the petals.\n",
    "\n",
    "The objective of the model we are creating here is to develop a model that \n",
    "will predict the species from the corresponing measurements.\n",
    "\n",
    "\n",
    "\n",
    "<table>\n",
    "<tr>\n",
    "<th style=\"text-align:center\">setosa</th>\n",
    "<th style=\"text-align:center\">virginica</th>\n",
    "    <th style=\"text-align:center\">versicolor</th>\n",
    "</tr>\n",
    "<tr>\n",
    "<td><img src=\"./images/setosa.jpg\" style=\"width:220px;height:220px\"/></td>\n",
    "<td><img src=\"./images/virginica.jpg\" style=\"width:220px;height:220px\"/></td>\n",
    "<td><img src=\"./images/versicolor.jpg\" style=\"width:220px;height:220px\"/></td>\n",
    "</tr>\n",
    "</table>\n",
    "\n",
    "[Ronald Fisher original paper](./data/iris-fisher.pdf)\n"
   ]
  },
  {
   "cell_type": "code",
   "execution_count": 1,
   "id": "0062ef46",
   "metadata": {},
   "outputs": [
    {
     "data": {
      "text/html": [
       "\n",
       "        <iframe\n",
       "            width=\"100%\"\n",
       "            height=\"600\"\n",
       "            src=\"./data/iris-fisher.pdf\"\n",
       "            frameborder=\"0\"\n",
       "            allowfullscreen\n",
       "            \n",
       "        ></iframe>\n",
       "        "
      ],
      "text/plain": [
       "<IPython.lib.display.IFrame at 0x7eff9fad38b0>"
      ]
     },
     "execution_count": 1,
     "metadata": {},
     "output_type": "execute_result"
    }
   ],
   "source": [
    "from IPython.display import IFrame\n",
    "IFrame(\"./data/iris-fisher.pdf\", width=\"100%\", height=600)"
   ]
  },
  {
   "cell_type": "code",
   "execution_count": 212,
   "id": "34aa95f3",
   "metadata": {},
   "outputs": [],
   "source": [
    "import matplotlib.pyplot as plt\n",
    "import pandas as pd\n",
    "from keras.utils import to_categorical"
   ]
  },
  {
   "cell_type": "code",
   "execution_count": 213,
   "id": "e39a7984",
   "metadata": {},
   "outputs": [
    {
     "data": {
      "text/html": [
       "<div>\n",
       "<style scoped>\n",
       "    .dataframe tbody tr th:only-of-type {\n",
       "        vertical-align: middle;\n",
       "    }\n",
       "\n",
       "    .dataframe tbody tr th {\n",
       "        vertical-align: top;\n",
       "    }\n",
       "\n",
       "    .dataframe thead th {\n",
       "        text-align: right;\n",
       "    }\n",
       "</style>\n",
       "<table border=\"1\" class=\"dataframe\">\n",
       "  <thead>\n",
       "    <tr style=\"text-align: right;\">\n",
       "      <th></th>\n",
       "      <th>Id</th>\n",
       "      <th>SepalLengthCm</th>\n",
       "      <th>SepalWidthCm</th>\n",
       "      <th>PetalLengthCm</th>\n",
       "      <th>PetalWidthCm</th>\n",
       "      <th>Species</th>\n",
       "      <th>si</th>\n",
       "    </tr>\n",
       "  </thead>\n",
       "  <tbody>\n",
       "    <tr>\n",
       "      <th>55</th>\n",
       "      <td>56</td>\n",
       "      <td>5.7</td>\n",
       "      <td>2.8</td>\n",
       "      <td>4.5</td>\n",
       "      <td>1.3</td>\n",
       "      <td>versicolor</td>\n",
       "      <td>1</td>\n",
       "    </tr>\n",
       "    <tr>\n",
       "      <th>125</th>\n",
       "      <td>126</td>\n",
       "      <td>7.2</td>\n",
       "      <td>3.2</td>\n",
       "      <td>6.0</td>\n",
       "      <td>1.8</td>\n",
       "      <td>virginica</td>\n",
       "      <td>2</td>\n",
       "    </tr>\n",
       "    <tr>\n",
       "      <th>112</th>\n",
       "      <td>113</td>\n",
       "      <td>6.8</td>\n",
       "      <td>3.0</td>\n",
       "      <td>5.5</td>\n",
       "      <td>2.1</td>\n",
       "      <td>virginica</td>\n",
       "      <td>2</td>\n",
       "    </tr>\n",
       "    <tr>\n",
       "      <th>21</th>\n",
       "      <td>22</td>\n",
       "      <td>5.1</td>\n",
       "      <td>3.7</td>\n",
       "      <td>1.5</td>\n",
       "      <td>0.4</td>\n",
       "      <td>setosa</td>\n",
       "      <td>0</td>\n",
       "    </tr>\n",
       "    <tr>\n",
       "      <th>141</th>\n",
       "      <td>142</td>\n",
       "      <td>6.9</td>\n",
       "      <td>3.1</td>\n",
       "      <td>5.1</td>\n",
       "      <td>2.3</td>\n",
       "      <td>virginica</td>\n",
       "      <td>2</td>\n",
       "    </tr>\n",
       "    <tr>\n",
       "      <th>...</th>\n",
       "      <td>...</td>\n",
       "      <td>...</td>\n",
       "      <td>...</td>\n",
       "      <td>...</td>\n",
       "      <td>...</td>\n",
       "      <td>...</td>\n",
       "      <td>...</td>\n",
       "    </tr>\n",
       "    <tr>\n",
       "      <th>143</th>\n",
       "      <td>144</td>\n",
       "      <td>6.8</td>\n",
       "      <td>3.2</td>\n",
       "      <td>5.9</td>\n",
       "      <td>2.3</td>\n",
       "      <td>virginica</td>\n",
       "      <td>2</td>\n",
       "    </tr>\n",
       "    <tr>\n",
       "      <th>97</th>\n",
       "      <td>98</td>\n",
       "      <td>6.2</td>\n",
       "      <td>2.9</td>\n",
       "      <td>4.3</td>\n",
       "      <td>1.3</td>\n",
       "      <td>versicolor</td>\n",
       "      <td>1</td>\n",
       "    </tr>\n",
       "    <tr>\n",
       "      <th>139</th>\n",
       "      <td>140</td>\n",
       "      <td>6.9</td>\n",
       "      <td>3.1</td>\n",
       "      <td>5.4</td>\n",
       "      <td>2.1</td>\n",
       "      <td>virginica</td>\n",
       "      <td>2</td>\n",
       "    </tr>\n",
       "    <tr>\n",
       "      <th>78</th>\n",
       "      <td>79</td>\n",
       "      <td>6.0</td>\n",
       "      <td>2.9</td>\n",
       "      <td>4.5</td>\n",
       "      <td>1.5</td>\n",
       "      <td>versicolor</td>\n",
       "      <td>1</td>\n",
       "    </tr>\n",
       "    <tr>\n",
       "      <th>109</th>\n",
       "      <td>110</td>\n",
       "      <td>7.2</td>\n",
       "      <td>3.6</td>\n",
       "      <td>6.1</td>\n",
       "      <td>2.5</td>\n",
       "      <td>virginica</td>\n",
       "      <td>2</td>\n",
       "    </tr>\n",
       "  </tbody>\n",
       "</table>\n",
       "<p>150 rows × 7 columns</p>\n",
       "</div>"
      ],
      "text/plain": [
       "      Id  SepalLengthCm  SepalWidthCm  PetalLengthCm  PetalWidthCm  \\\n",
       "55    56            5.7           2.8            4.5           1.3   \n",
       "125  126            7.2           3.2            6.0           1.8   \n",
       "112  113            6.8           3.0            5.5           2.1   \n",
       "21    22            5.1           3.7            1.5           0.4   \n",
       "141  142            6.9           3.1            5.1           2.3   \n",
       "..   ...            ...           ...            ...           ...   \n",
       "143  144            6.8           3.2            5.9           2.3   \n",
       "97    98            6.2           2.9            4.3           1.3   \n",
       "139  140            6.9           3.1            5.4           2.1   \n",
       "78    79            6.0           2.9            4.5           1.5   \n",
       "109  110            7.2           3.6            6.1           2.5   \n",
       "\n",
       "        Species  si  \n",
       "55   versicolor   1  \n",
       "125   virginica   2  \n",
       "112   virginica   2  \n",
       "21       setosa   0  \n",
       "141   virginica   2  \n",
       "..          ...  ..  \n",
       "143   virginica   2  \n",
       "97   versicolor   1  \n",
       "139   virginica   2  \n",
       "78   versicolor   1  \n",
       "109   virginica   2  \n",
       "\n",
       "[150 rows x 7 columns]"
      ]
     },
     "execution_count": 213,
     "metadata": {},
     "output_type": "execute_result"
    }
   ],
   "source": [
    "# Load the data and randomize them.\n",
    "df = pd.read_csv(\"./data/iris-dataset.csv\")\n",
    "df = df.sample(frac=1)\n",
    "\n",
    "# Enrich the data adding a numeric column to represent the species.\n",
    "species_index = { n: i for i, n in enumerate(np.unique(df[\"Species\"]))}\n",
    "df[\"si\"] = df.apply(lambda row: species_index[row[\"Species\"]], axis=1)\n",
    "df"
   ]
  },
  {
   "cell_type": "markdown",
   "id": "438b7347",
   "metadata": {},
   "source": [
    "### Check the composition of the data \n",
    "\n",
    "We can see that in our sample we have an equal number of \n",
    "each of the species:"
   ]
  },
  {
   "cell_type": "code",
   "execution_count": 214,
   "id": "62f71945",
   "metadata": {},
   "outputs": [
    {
     "data": {
      "image/png": "[encoded data removed]",
      "text/plain": [
       "<Figure size 432x288 with 1 Axes>"
      ]
     },
     "metadata": {},
     "output_type": "display_data"
    }
   ],
   "source": [
    "counters = [len(df[df[\"Species\"] == species]) for species in df['Species'].unique()]\n",
    "_ = plt.pie(counters, labels=df['Species'].unique())\n",
    "_ = plt.title(\"Data split by species\")"
   ]
  },
  {
   "cell_type": "markdown",
   "id": "a7ab641f",
   "metadata": {},
   "source": [
    "### Preview the Data\n",
    "\n",
    "Our first step when we have to deal with data is to visualize them\n",
    "and improve our intutive understanding of them.\n",
    "\n",
    "The following scatter represenation gives us a hint of how the dataset\n",
    "is clustered in terms of the sepal length-width in a by species basis:"
   ]
  },
  {
   "cell_type": "code",
   "execution_count": 215,
   "id": "50b0b1d8",
   "metadata": {},
   "outputs": [
    {
     "data": {
      "image/png": "[encoded data removed]",
      "text/plain": [
       "<Figure size 432x288 with 1 Axes>"
      ]
     },
     "metadata": {
      "needs_background": "light"
     },
     "output_type": "display_data"
    }
   ],
   "source": [
    "for species in df['Species'].unique():\n",
    "    df1 = df[df['Species'] == species]\n",
    "    plt.scatter(\n",
    "        df1[\"SepalLengthCm\"], df1[\"SepalWidthCm\"], label=species\n",
    "    )\n",
    "_ = plt.legend()   \n",
    "_ = plt.xlabel(\"SepalLengthCm\")\n",
    "_ = plt.ylabel(\"SepalWidthCm\")\n"
   ]
  },
  {
   "cell_type": "markdown",
   "id": "f03833d3",
   "metadata": {},
   "source": [
    "### Separate data to training and testing subsets\n",
    "\n",
    "We are splitting the available data into two completely distict\n",
    "subsets:\n",
    "\n",
    "#### Training Data\n",
    "\n",
    "The training data will be used to traing the NN meaning to fit\n",
    "the curve to them with the minimum possible loss.\n",
    "    \n",
    "#### Testing Data\n",
    "\n",
    "The testing data are compoletely separate from the testing and\n",
    "are never be seem from the training phase; they are used after\n",
    "the training process to verify the accurary of the model in\n",
    "unseen data.\n"
   ]
  },
  {
   "cell_type": "code",
   "execution_count": 216,
   "id": "fbf56fc0",
   "metadata": {},
   "outputs": [
    {
     "data": {
      "image/png": "[encoded data removed]",
      "text/plain": [
       "<Figure size 432x288 with 1 Axes>"
      ]
     },
     "metadata": {},
     "output_type": "display_data"
    }
   ],
   "source": [
    "# Break down to testing and training data.\n",
    "training_data = df.iloc[:130]\n",
    "testing_data = df.iloc[130:]\n",
    "\n",
    "_ = plt.pie([len(training_data), len(testing_data)], labels = [\"training\", \"testing\"])\n",
    "_ =plt.title(\"Training/Testing data split\")"
   ]
  },
  {
   "cell_type": "code",
   "execution_count": 217,
   "id": "3f771e74",
   "metadata": {},
   "outputs": [],
   "source": [
    "from sklearn.model_selection import train_test_split"
   ]
  },
  {
   "cell_type": "code",
   "execution_count": 218,
   "id": "b8257ce6",
   "metadata": {},
   "outputs": [],
   "source": [
    "input_cols = [\"SepalLengthCm\",\"SepalWidthCm\",\"PetalLengthCm\",\"PetalWidthCm\"]\n",
    "X = training_data[cols].copy()\n",
    "Y = pd.DataFrame(training_data[\"si\"].copy())"
   ]
  },
  {
   "cell_type": "markdown",
   "id": "c73c9917",
   "metadata": {},
   "source": [
    "### Split the training data to train and validation subsets\n",
    "\n",
    "To avoid overfitting our model to the training data, we are extracting\n",
    "from them a portion that we call **validation dataset** which will be used\n",
    "during the training process as an \"implicit\" test (still not the test we\n",
    "will do after the training is complete but as an intermediate testing)."
   ]
  },
  {
   "cell_type": "code",
   "execution_count": 219,
   "id": "b9eb1142",
   "metadata": {},
   "outputs": [],
   "source": [
    "train_X, validation_x, train_y, validation_y = train_test_split(X, Y, test_size=0.3, stratify=Y)"
   ]
  },
  {
   "cell_type": "markdown",
   "id": "3f51111e",
   "metadata": {},
   "source": [
    "### Convert numerical to categorical values\n",
    "\n"
   ]
  },
  {
   "cell_type": "code",
   "execution_count": 220,
   "id": "a775e9bf",
   "metadata": {},
   "outputs": [],
   "source": [
    "train_y = to_categorical(train_y)\n",
    "validation_y = to_categorical(validation_y)"
   ]
  },
  {
   "cell_type": "code",
   "execution_count": 221,
   "id": "1277d8c4",
   "metadata": {
    "scrolled": false
   },
   "outputs": [
    {
     "name": "stdout",
     "output_type": "stream",
     "text": [
      "Epoch 1/10\n",
      "8/8 [==============================] - 0s 22ms/step - loss: 0.8448 - accuracy: 0.6813 - val_loss: 0.6910 - val_accuracy: 0.6923\n",
      "Epoch 2/10\n",
      "8/8 [==============================] - 0s 5ms/step - loss: 0.5731 - accuracy: 0.7253 - val_loss: 0.4751 - val_accuracy: 0.6923\n",
      "Epoch 3/10\n",
      "8/8 [==============================] - 0s 6ms/step - loss: 0.4425 - accuracy: 0.9121 - val_loss: 0.3739 - val_accuracy: 0.9744\n",
      "Epoch 4/10\n",
      "8/8 [==============================] - 0s 5ms/step - loss: 0.3687 - accuracy: 0.9341 - val_loss: 0.3272 - val_accuracy: 0.8462\n",
      "Epoch 5/10\n",
      "8/8 [==============================] - 0s 5ms/step - loss: 0.3337 - accuracy: 0.8791 - val_loss: 0.2705 - val_accuracy: 0.9487\n",
      "Epoch 6/10\n",
      "8/8 [==============================] - 0s 5ms/step - loss: 0.2720 - accuracy: 0.9560 - val_loss: 0.2402 - val_accuracy: 0.9487\n",
      "Epoch 7/10\n",
      "8/8 [==============================] - 0s 5ms/step - loss: 0.2369 - accuracy: 0.9341 - val_loss: 0.1861 - val_accuracy: 1.0000\n",
      "Epoch 8/10\n",
      "8/8 [==============================] - 0s 5ms/step - loss: 0.2031 - accuracy: 0.9451 - val_loss: 0.1652 - val_accuracy: 0.9744\n",
      "Epoch 9/10\n",
      "8/8 [==============================] - 0s 5ms/step - loss: 0.1792 - accuracy: 0.9560 - val_loss: 0.1393 - val_accuracy: 1.0000\n",
      "Epoch 10/10\n",
      "8/8 [==============================] - 0s 5ms/step - loss: 0.1939 - accuracy: 0.9231 - val_loss: 0.1339 - val_accuracy: 0.9744\n"
     ]
    }
   ],
   "source": [
    "import tensorflow as tf\n",
    "\n",
    "model = tf.keras.models.Sequential([\n",
    "    tf.keras.layers.Input(4),\n",
    "    tf.keras.layers.Dense(100, activation='relu'),\n",
    "    tf.keras.layers.Dense(3, activation='softmax')\n",
    "])\n",
    "\n",
    "\n",
    "model.compile(optimizer=tf.keras.optimizers.Adam(learning_rate=0.01),\n",
    "              loss='categorical_crossentropy',\n",
    "              metrics=['accuracy'])\n",
    "\n",
    "\n",
    "history = model.fit(train_X, train_y, batch_size=12, epochs=10, validation_data=(validation_x, validation_y), verbose=1)"
   ]
  },
  {
   "cell_type": "markdown",
   "id": "260f1b61",
   "metadata": {},
   "source": [
    "### Visualize the training phase"
   ]
  },
  {
   "cell_type": "code",
   "execution_count": 222,
   "id": "4be536ec",
   "metadata": {},
   "outputs": [
    {
     "data": {
      "image/png": "[encoded data removed]",
      "text/plain": [
       "<Figure size 432x288 with 1 Axes>"
      ]
     },
     "metadata": {
      "needs_background": "light"
     },
     "output_type": "display_data"
    },
    {
     "data": {
      "image/png": "[encoded data removed]",
      "text/plain": [
       "<Figure size 432x288 with 1 Axes>"
      ]
     },
     "metadata": {
      "needs_background": "light"
     },
     "output_type": "display_data"
    }
   ],
   "source": [
    "#Accuracy plot\n",
    "plt.figure()\n",
    "plt.title('Accuracy')\n",
    "plt.xlabel('epoch')\n",
    "plt.ylabel('accuracy')\n",
    "plt.plot(history.history['accuracy'], label='train')\n",
    "plt.plot(history.history['val_accuracy'], label='test')\n",
    "plt.legend()\n",
    "\n",
    "#Loss plot\n",
    "plt.figure()\n",
    "plt.title('categorical_crossentropy Loss')\n",
    "plt.xlabel('epoch')\n",
    "plt.ylabel('loss')\n",
    "plt.plot(history.history['loss'], label='train')\n",
    "plt.plot(history.history['val_loss'], label='test')\n",
    "plt.legend()\n",
    "plt.show()\n"
   ]
  },
  {
   "cell_type": "markdown",
   "id": "1e8808ec",
   "metadata": {},
   "source": [
    "### Check accuracy on unseen data"
   ]
  },
  {
   "cell_type": "code",
   "execution_count": 223,
   "id": "25fa56c4",
   "metadata": {},
   "outputs": [
    {
     "data": {
      "text/html": [
       "<div>\n",
       "<style scoped>\n",
       "    .dataframe tbody tr th:only-of-type {\n",
       "        vertical-align: middle;\n",
       "    }\n",
       "\n",
       "    .dataframe tbody tr th {\n",
       "        vertical-align: top;\n",
       "    }\n",
       "\n",
       "    .dataframe thead th {\n",
       "        text-align: right;\n",
       "    }\n",
       "</style>\n",
       "<table border=\"1\" class=\"dataframe\">\n",
       "  <thead>\n",
       "    <tr style=\"text-align: right;\">\n",
       "      <th></th>\n",
       "      <th>Id</th>\n",
       "      <th>SepalLengthCm</th>\n",
       "      <th>SepalWidthCm</th>\n",
       "      <th>PetalLengthCm</th>\n",
       "      <th>PetalWidthCm</th>\n",
       "      <th>Species</th>\n",
       "      <th>si</th>\n",
       "    </tr>\n",
       "  </thead>\n",
       "  <tbody>\n",
       "    <tr>\n",
       "      <th>88</th>\n",
       "      <td>89</td>\n",
       "      <td>5.6</td>\n",
       "      <td>3.0</td>\n",
       "      <td>4.1</td>\n",
       "      <td>1.3</td>\n",
       "      <td>versicolor</td>\n",
       "      <td>1</td>\n",
       "    </tr>\n",
       "    <tr>\n",
       "      <th>49</th>\n",
       "      <td>50</td>\n",
       "      <td>5.0</td>\n",
       "      <td>3.3</td>\n",
       "      <td>1.4</td>\n",
       "      <td>0.2</td>\n",
       "      <td>setosa</td>\n",
       "      <td>0</td>\n",
       "    </tr>\n",
       "    <tr>\n",
       "      <th>56</th>\n",
       "      <td>57</td>\n",
       "      <td>6.3</td>\n",
       "      <td>3.3</td>\n",
       "      <td>4.7</td>\n",
       "      <td>1.6</td>\n",
       "      <td>versicolor</td>\n",
       "      <td>1</td>\n",
       "    </tr>\n",
       "    <tr>\n",
       "      <th>103</th>\n",
       "      <td>104</td>\n",
       "      <td>6.3</td>\n",
       "      <td>2.9</td>\n",
       "      <td>5.6</td>\n",
       "      <td>1.8</td>\n",
       "      <td>virginica</td>\n",
       "      <td>2</td>\n",
       "    </tr>\n",
       "    <tr>\n",
       "      <th>30</th>\n",
       "      <td>31</td>\n",
       "      <td>4.8</td>\n",
       "      <td>3.1</td>\n",
       "      <td>1.6</td>\n",
       "      <td>0.2</td>\n",
       "      <td>setosa</td>\n",
       "      <td>0</td>\n",
       "    </tr>\n",
       "    <tr>\n",
       "      <th>0</th>\n",
       "      <td>1</td>\n",
       "      <td>5.1</td>\n",
       "      <td>3.5</td>\n",
       "      <td>1.4</td>\n",
       "      <td>0.2</td>\n",
       "      <td>setosa</td>\n",
       "      <td>0</td>\n",
       "    </tr>\n",
       "    <tr>\n",
       "      <th>110</th>\n",
       "      <td>111</td>\n",
       "      <td>6.5</td>\n",
       "      <td>3.2</td>\n",
       "      <td>5.1</td>\n",
       "      <td>2.0</td>\n",
       "      <td>virginica</td>\n",
       "      <td>2</td>\n",
       "    </tr>\n",
       "    <tr>\n",
       "      <th>119</th>\n",
       "      <td>120</td>\n",
       "      <td>6.0</td>\n",
       "      <td>2.2</td>\n",
       "      <td>5.0</td>\n",
       "      <td>1.5</td>\n",
       "      <td>virginica</td>\n",
       "      <td>2</td>\n",
       "    </tr>\n",
       "    <tr>\n",
       "      <th>8</th>\n",
       "      <td>9</td>\n",
       "      <td>4.4</td>\n",
       "      <td>2.9</td>\n",
       "      <td>1.4</td>\n",
       "      <td>0.2</td>\n",
       "      <td>setosa</td>\n",
       "      <td>0</td>\n",
       "    </tr>\n",
       "    <tr>\n",
       "      <th>72</th>\n",
       "      <td>73</td>\n",
       "      <td>6.3</td>\n",
       "      <td>2.5</td>\n",
       "      <td>4.9</td>\n",
       "      <td>1.5</td>\n",
       "      <td>versicolor</td>\n",
       "      <td>1</td>\n",
       "    </tr>\n",
       "    <tr>\n",
       "      <th>136</th>\n",
       "      <td>137</td>\n",
       "      <td>6.3</td>\n",
       "      <td>3.4</td>\n",
       "      <td>5.6</td>\n",
       "      <td>2.4</td>\n",
       "      <td>virginica</td>\n",
       "      <td>2</td>\n",
       "    </tr>\n",
       "    <tr>\n",
       "      <th>134</th>\n",
       "      <td>135</td>\n",
       "      <td>6.1</td>\n",
       "      <td>2.6</td>\n",
       "      <td>5.6</td>\n",
       "      <td>1.4</td>\n",
       "      <td>virginica</td>\n",
       "      <td>2</td>\n",
       "    </tr>\n",
       "    <tr>\n",
       "      <th>59</th>\n",
       "      <td>60</td>\n",
       "      <td>5.2</td>\n",
       "      <td>2.7</td>\n",
       "      <td>3.9</td>\n",
       "      <td>1.4</td>\n",
       "      <td>versicolor</td>\n",
       "      <td>1</td>\n",
       "    </tr>\n",
       "    <tr>\n",
       "      <th>126</th>\n",
       "      <td>127</td>\n",
       "      <td>6.2</td>\n",
       "      <td>2.8</td>\n",
       "      <td>4.8</td>\n",
       "      <td>1.8</td>\n",
       "      <td>virginica</td>\n",
       "      <td>2</td>\n",
       "    </tr>\n",
       "    <tr>\n",
       "      <th>146</th>\n",
       "      <td>147</td>\n",
       "      <td>6.3</td>\n",
       "      <td>2.5</td>\n",
       "      <td>5.0</td>\n",
       "      <td>1.9</td>\n",
       "      <td>virginica</td>\n",
       "      <td>2</td>\n",
       "    </tr>\n",
       "    <tr>\n",
       "      <th>143</th>\n",
       "      <td>144</td>\n",
       "      <td>6.8</td>\n",
       "      <td>3.2</td>\n",
       "      <td>5.9</td>\n",
       "      <td>2.3</td>\n",
       "      <td>virginica</td>\n",
       "      <td>2</td>\n",
       "    </tr>\n",
       "    <tr>\n",
       "      <th>97</th>\n",
       "      <td>98</td>\n",
       "      <td>6.2</td>\n",
       "      <td>2.9</td>\n",
       "      <td>4.3</td>\n",
       "      <td>1.3</td>\n",
       "      <td>versicolor</td>\n",
       "      <td>1</td>\n",
       "    </tr>\n",
       "    <tr>\n",
       "      <th>139</th>\n",
       "      <td>140</td>\n",
       "      <td>6.9</td>\n",
       "      <td>3.1</td>\n",
       "      <td>5.4</td>\n",
       "      <td>2.1</td>\n",
       "      <td>virginica</td>\n",
       "      <td>2</td>\n",
       "    </tr>\n",
       "    <tr>\n",
       "      <th>78</th>\n",
       "      <td>79</td>\n",
       "      <td>6.0</td>\n",
       "      <td>2.9</td>\n",
       "      <td>4.5</td>\n",
       "      <td>1.5</td>\n",
       "      <td>versicolor</td>\n",
       "      <td>1</td>\n",
       "    </tr>\n",
       "    <tr>\n",
       "      <th>109</th>\n",
       "      <td>110</td>\n",
       "      <td>7.2</td>\n",
       "      <td>3.6</td>\n",
       "      <td>6.1</td>\n",
       "      <td>2.5</td>\n",
       "      <td>virginica</td>\n",
       "      <td>2</td>\n",
       "    </tr>\n",
       "  </tbody>\n",
       "</table>\n",
       "</div>"
      ],
      "text/plain": [
       "      Id  SepalLengthCm  SepalWidthCm  PetalLengthCm  PetalWidthCm  \\\n",
       "88    89            5.6           3.0            4.1           1.3   \n",
       "49    50            5.0           3.3            1.4           0.2   \n",
       "56    57            6.3           3.3            4.7           1.6   \n",
       "103  104            6.3           2.9            5.6           1.8   \n",
       "30    31            4.8           3.1            1.6           0.2   \n",
       "0      1            5.1           3.5            1.4           0.2   \n",
       "110  111            6.5           3.2            5.1           2.0   \n",
       "119  120            6.0           2.2            5.0           1.5   \n",
       "8      9            4.4           2.9            1.4           0.2   \n",
       "72    73            6.3           2.5            4.9           1.5   \n",
       "136  137            6.3           3.4            5.6           2.4   \n",
       "134  135            6.1           2.6            5.6           1.4   \n",
       "59    60            5.2           2.7            3.9           1.4   \n",
       "126  127            6.2           2.8            4.8           1.8   \n",
       "146  147            6.3           2.5            5.0           1.9   \n",
       "143  144            6.8           3.2            5.9           2.3   \n",
       "97    98            6.2           2.9            4.3           1.3   \n",
       "139  140            6.9           3.1            5.4           2.1   \n",
       "78    79            6.0           2.9            4.5           1.5   \n",
       "109  110            7.2           3.6            6.1           2.5   \n",
       "\n",
       "        Species  si  \n",
       "88   versicolor   1  \n",
       "49       setosa   0  \n",
       "56   versicolor   1  \n",
       "103   virginica   2  \n",
       "30       setosa   0  \n",
       "0        setosa   0  \n",
       "110   virginica   2  \n",
       "119   virginica   2  \n",
       "8        setosa   0  \n",
       "72   versicolor   1  \n",
       "136   virginica   2  \n",
       "134   virginica   2  \n",
       "59   versicolor   1  \n",
       "126   virginica   2  \n",
       "146   virginica   2  \n",
       "143   virginica   2  \n",
       "97   versicolor   1  \n",
       "139   virginica   2  \n",
       "78   versicolor   1  \n",
       "109   virginica   2  "
      ]
     },
     "execution_count": 223,
     "metadata": {},
     "output_type": "execute_result"
    }
   ],
   "source": [
    "testing_data"
   ]
  },
  {
   "cell_type": "code",
   "execution_count": 224,
   "id": "05b84882",
   "metadata": {},
   "outputs": [
    {
     "name": "stdout",
     "output_type": "stream",
     "text": [
      "1/1 [==============================] - 0s 16ms/step - loss: 0.2316 - accuracy: 0.9000\n",
      "Accuracy:      0.9\n"
     ]
    },
    {
     "data": {
      "image/png": "[encoded data removed]",
      "text/plain": [
       "<Figure size 432x288 with 1 Axes>"
      ]
     },
     "metadata": {},
     "output_type": "display_data"
    }
   ],
   "source": [
    "testing_X = testing_data[cols].copy()\n",
    "testing_Y = pd.DataFrame(testing_data[\"si\"].copy())\n",
    "testing_Y = to_categorical(testing_Y)\n",
    "\n",
    "test_loss, test_acc = model.evaluate(testing_X, testing_Y)\n",
    "print(f'Accuracy: {test_acc:8.4}')\n",
    "_ = plt.pie([test_acc, 1 - test_acc])"
   ]
  },
  {
   "cell_type": "markdown",
   "id": "a92b5ce9",
   "metadata": {},
   "source": [
    "### Make adhoc prediction to unseen data "
   ]
  },
  {
   "cell_type": "code",
   "execution_count": 225,
   "id": "42d060c1",
   "metadata": {},
   "outputs": [
    {
     "name": "stdout",
     "output_type": "stream",
     "text": [
      "1/1 [==============================] - 0s 46ms/step\n",
      "1 0 0\n"
     ]
    }
   ],
   "source": [
    "x = model.predict([[54, 5.5, 2.3, 4.0]])\n",
    "x1, x2, x3 = x[0]\n",
    "\n",
    "print(round(x1), round(x2), round(x3))"
   ]
  }
 ],
 "metadata": {
  "kernelspec": {
   "display_name": "Python 3 (ipykernel)",
   "language": "python",
   "name": "python3"
  },
  "language_info": {
   "codemirror_mode": {
    "name": "ipython",
    "version": 3
   },
   "file_extension": ".py",
   "mimetype": "text/x-python",
   "name": "python",
   "nbconvert_exporter": "python",
   "pygments_lexer": "ipython3",
   "version": "3.10.4"
  }
 },
 "nbformat": 4,
 "nbformat_minor": 5
}
