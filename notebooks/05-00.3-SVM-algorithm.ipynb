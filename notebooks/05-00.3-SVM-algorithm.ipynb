{
 "cells": [
  {
   "cell_type": "markdown",
   "id": "af591d6e",
   "metadata": {},
   "source": [
    "# The Basics of the SVM algorithm"
   ]
  },
  {
   "cell_type": "code",
   "execution_count": 7,
   "id": "b006237e",
   "metadata": {},
   "outputs": [],
   "source": [
    "import matplotlib.pyplot as plt\n",
    "import pandas as pd\n",
    "import seaborn as sns"
   ]
  },
  {
   "cell_type": "code",
   "execution_count": 12,
   "id": "25a5f436",
   "metadata": {},
   "outputs": [],
   "source": [
    "df = pd.read_csv(\"./data/2-classes.csv\")"
   ]
  },
  {
   "cell_type": "markdown",
   "id": "3f07d9bc",
   "metadata": {},
   "source": [
    "The Support Vector Machine algorithm is a classification algorithm thus it\n",
    "tries to predict the **class** of a data samemple based on its features.\n",
    "\n",
    "To start our understanding of SVM let's consider the simpler possible case \n",
    "which can be found in a set of two dimentional data (that can be expressed\n",
    "as x, y for example) which hold exactly two classes and can be **linearly** \n",
    "separated.\n",
    "\n",
    "An example of this type of data can be seen here:\n",
    "\n",
    "<img src=\"./images/SVN-2d-data.png\" style=\"width:320px\"/>\n",
    "\n",
    "Given this dataset it becomes trivial to realize and see how the two classes\n",
    "can be separated by a straigh line as follows:\n",
    "\n",
    "<img src=\"./images/SVM-2d-separated.png\" style=\"width:320px\"/>\n",
    "\n",
    "\n",
    "The two classes of data points are separated linearly but we can also notice \n",
    "that there are infinite number of such lines and in the picture above we can \n",
    "only see one of these lines (the red thick line).\n",
    "\n",
    "The question that arises here is wheather this line is the best way to separate\n",
    "the **plane** to two hald planes in such a way that predicting the class of an\n",
    "unseen data point will be the best."
   ]
  },
  {
   "cell_type": "markdown",
   "id": "200e6272",
   "metadata": {},
   "source": [
    "## Any separating line might not be good enough\n",
    "\n",
    "The red line that separates the plane in the picture above is not very good! \n",
    "\n",
    "We can intutively realize this by introducing a new unseen data point which is very\n",
    "close to the \"orange\" points but still based on how the line is oriented it falls \n",
    "in the opposite classification:\n",
    "\n",
    "<img src=\"./images/SVM-missed-outlier.png\" style=\"width:620px\"/>\n",
    "\n",
    "This notification leads us to the main objective of the SVM algorithm:\n",
    "\n",
    "> **The objective of the Support Vector Machine algorithm is to discover the best way to separate the plane to allow the most robust  predictions for unseen data**\n"
   ]
  },
  {
   "cell_type": "markdown",
   "id": "17ab4073",
   "metadata": {},
   "source": [
    "## A \"better\" line to separate classes\n",
    "\n",
    "Using exactly the same data as before we can visually see and understand that the \n",
    "following (red) line that separates the two classes is much better and robust; note\n",
    "that the unseen \"new\" (orange) data point now is falling within the correct half-plane\n",
    "making our classifier better:\n",
    "\n",
    "<img src=\"./images/SVN-included-outlier.png\" style=\"width:620px\"/>\n"
   ]
  },
  {
   "cell_type": "markdown",
   "id": "04010afc",
   "metadata": {},
   "source": [
    "# Some useful definitions\n",
    "\n",
    "# Hyperplane\n",
    "\n",
    "A loose defintion that can serve us well when talking about SVMs is that a **Hyperplane** \n",
    "is the dataspace that has one less dimention from the dataspace we are working on.\n",
    "\n",
    "**Example of a Hyperpane**\n",
    "\n",
    "When we are working with 2 dimensional data the corresponing Hyperplane will \n",
    "be a straight line that divides the plane. An example of this can be seen in \n",
    "the red line that separated the plane in to the two classe in the above example.\n",
    "\n",
    "If we are working of a 3 dimentional space then the hyperplane will be a \n",
    "2 dimentional plane as can be seen here:\n",
    "\n",
    "<img src=\"./images/3d-hyperplane.jpeg\" style=\"width:320px\"/>\n",
    "\n",
    "\n",
    "# Support Vectors\n",
    "\n",
    "In SVM the term **support vector** refers to the sample that is closest the dividing hyperplane.\n",
    "\n",
    "\n",
    "# Margin\n",
    "\n",
    "In SVM the term **margin** refers to the distance between the **hyperplane** and the closest \n",
    "**support vector** (the larger the better).\n",
    "\n",
    "\n",
    "In this picture we can visually see the above definitions:\n",
    "\n",
    "\n",
    "<img src=\"./images/SVM-definitions.png\" style=\"width:620px\"/>\n",
    "\n",
    "\n"
   ]
  },
  {
   "cell_type": "markdown",
   "id": "189534bd",
   "metadata": {},
   "source": [
    "# More advanced cases for SVM\n",
    "\n",
    "The example we have seen so far is the simpler possible; SVM can be very useful\n",
    "and successful in way more complicated datasets that a plain 2D / 2 class / linear\n",
    "sepearable set.\n",
    "\n",
    "What we will see later are the following:\n",
    "\n",
    "- Handling datasets with more than two features ($x_1, x_2, .. x_n$ as opposed to only $x_1, x_2$)\n",
    "\n",
    "- Handling non-linear separable data sets\n",
    "\n",
    "\n",
    "\n"
   ]
  },
  {
   "cell_type": "code",
   "execution_count": 10,
   "id": "be81af8c",
   "metadata": {},
   "outputs": [],
   "source": [
    "def plot_line(*, a, b, c, d, color='black',  linewidth=3.1, linestyle='solid'):\n",
    "    assert b != 0 and a != 0\n",
    "    point1 = [0,  (d-c) / b]\n",
    "    point2 = [(d-c)/a, 0]\n",
    "    x_values = [point1[0], point2[0]]\n",
    "    y_values = [point1[1], point2[1]]\n",
    "    plt.plot(x_values, y_values, color=color, linewidth=linewidth, linestyle=linestyle)\n",
    "    plt.grid(color='gray', linestyle='-', linewidth=0.2)\n",
    "    plt.xlabel(\"x\")\n",
    "    plt.ylabel(\"y\")"
   ]
  },
  {
   "cell_type": "code",
   "execution_count": 59,
   "id": "8476eeaf",
   "metadata": {},
   "outputs": [
    {
     "data": {
      "image/png": "[encoded data removed]",
      "text/plain": [
       "<Figure size 432x288 with 1 Axes>"
      ]
     },
     "metadata": {
      "needs_background": "light"
     },
     "output_type": "display_data"
    }
   ],
   "source": [
    "sns.scatterplot(x = df[\"x\"], y = df[\"y\"], hue=df[\"Label\"])\n",
    "plt.legend([],[], frameon=False)\n",
    "\n",
    "\n",
    "p1, p2 = [-8, 5.8], [4, 5.8]\n",
    "x_values = [p1[0], p2[0]]\n",
    "y_values = [p1[1], p2[1]]\n",
    "_ = plt.plot(x_values, y_values, color=\"red\", linewidth=3.2, linestyle=\"solid\")\n"
   ]
  },
  {
   "cell_type": "markdown",
   "id": "858a391d",
   "metadata": {},
   "source": [
    "A straight line in the 2 dimentional plane can be represented by the following equation: \n",
    "\n",
    "$\\Large ax + by + c=0$\n",
    "\n",
    "To make things more concrete lets assume:\n",
    "\n",
    "$\\Large a=3, b=2, c = -2$\n",
    "\n",
    "so our line becomes \n",
    "\n",
    "$\\Large 3x + 2y - 2= 0$\n"
   ]
  },
  {
   "cell_type": "code",
   "execution_count": 11,
   "id": "df9ff154",
   "metadata": {},
   "outputs": [
    {
     "data": {
      "image/png": "[encoded data removed]",
      "text/plain": [
       "<Figure size 432x288 with 1 Axes>"
      ]
     },
     "metadata": {
      "needs_background": "light"
     },
     "output_type": "display_data"
    }
   ],
   "source": [
    "a, b, c = 3, 2, -2 \n",
    "plot_line(a=a, b=b, c=c, d = 0, color=\"blue\", linestyle='solid', linewidth=2.1 )\n",
    "_ = plt.title(\"figure 1\")"
   ]
  },
  {
   "cell_type": "markdown",
   "id": "cee97e8e",
   "metadata": {},
   "source": [
    "If we also plot the following lines:\n",
    "\n",
    "$\\Large 3x + 2y - 2 = -1$\n",
    "\n",
    "$\\Large 3x + 2y - 2 =  0$\n",
    "\n",
    "our plot now becomes:\n"
   ]
  },
  {
   "cell_type": "code",
   "execution_count": 12,
   "id": "f4b7616d",
   "metadata": {},
   "outputs": [
    {
     "data": {
      "image/png": "[encoded data removed]",
      "text/plain": [
       "<Figure size 432x288 with 1 Axes>"
      ]
     },
     "metadata": {
      "needs_background": "light"
     },
     "output_type": "display_data"
    }
   ],
   "source": [
    "a, b, c = 3, 2, -2 \n",
    "plot_line(a=a, b=b, c=c, d = 0, color=\"blue\", linestyle='solid', linewidth=2.1 )\n",
    "plot_line(a=a, b=b, c=c, d = -1, color=\"green\", linestyle='dotted', linewidth=2.1 )\n",
    "plot_line(a=a, b=b, c=c, d = 1, color=\"orange\", linestyle='dotted', linewidth=2.1 )\n",
    "_ = plt.title(\"figure 2\")"
   ]
  },
  {
   "cell_type": "markdown",
   "id": "24d2559a",
   "metadata": {},
   "source": [
    "To summarize, the 3 lines that we are plotting above are the following:\n",
    "\n",
    "$\\Large 3x + 2y - 2= -1$\n",
    "\n",
    "$\\Large 3x + 2y - 2= 0$\n",
    "\n",
    "$\\Large 3x + 2y - 2= 1$\n",
    "\n",
    "What will happen if I multiply OLNY the left part of these equations by the same number? \n",
    "\n",
    "For our example lets say that we multiply the left parts of the equations by the number 3 thus our equations now become:\n",
    "\n",
    "$\\Large 9x + 4y - 4= -1$\n",
    "\n",
    "$\\Large 9x + 4y - 4= 0$\n",
    "\n",
    "$\\Large 9x + 4y - 4= 1$\n",
    "\n",
    "An if we plot them again the graphical represenation appears \n",
    "as follows:\n"
   ]
  },
  {
   "cell_type": "code",
   "execution_count": 13,
   "id": "f18e6a6b",
   "metadata": {},
   "outputs": [
    {
     "data": {
      "image/png": "[encoded data removed]",
      "text/plain": [
       "<Figure size 432x288 with 1 Axes>"
      ]
     },
     "metadata": {
      "needs_background": "light"
     },
     "output_type": "display_data"
    }
   ],
   "source": [
    "a, b, c = 3*3, 3*2, 3*-2 \n",
    "plot_line(a=a, b=b, c=c, d = 0, color=\"blue\", linestyle='solid', linewidth=2.1 )\n",
    "plot_line(a=a, b=b, c=c, d = -1, color=\"green\", linestyle='dotted', linewidth=2.1 )\n",
    "plot_line(a=a, b=b, c=c, d = 1, color=\"orange\", linestyle='dotted', linewidth=2.1 )\n",
    "_ = plt.title(\"figure 3\")"
   ]
  },
  {
   "cell_type": "markdown",
   "id": "8559b8e9",
   "metadata": {},
   "source": [
    "Carefully insepecting the figure 3 we notice that although\n",
    "the \"blue\" line (the one that is set to equals to 0) remains\n",
    "in the same postion, the other two lines have now moved closer to it (while they are still parallel to it though).\n",
    "\n",
    "It is easy to realize that as the factor we used to multiply the \n",
    "left side of the equations grow the closer the three lines are \n",
    "getting to each other ( and vice versa).\n"
   ]
  },
  {
   "cell_type": "markdown",
   "id": "06aa0e92",
   "metadata": {},
   "source": [
    "### Definition: Expanding rate\n",
    "\n",
    "We define the \"factor\" we have used to multiply the left sides\n",
    "of the above equations to be called as the **Expanding rate**"
   ]
  }
 ],
 "metadata": {
  "kernelspec": {
   "display_name": "Python 3 (ipykernel)",
   "language": "python",
   "name": "python3"
  },
  "language_info": {
   "codemirror_mode": {
    "name": "ipython",
    "version": 3
   },
   "file_extension": ".py",
   "mimetype": "text/x-python",
   "name": "python",
   "nbconvert_exporter": "python",
   "pygments_lexer": "ipython3",
   "version": "3.10.6"
  }
 },
 "nbformat": 4,
 "nbformat_minor": 5
}
