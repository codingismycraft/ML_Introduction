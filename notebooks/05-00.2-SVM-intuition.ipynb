{
 "cells": [
  {
   "cell_type": "markdown",
   "id": "af591d6e",
   "metadata": {},
   "source": [
    "# Understanding SVM intuitevely"
   ]
  },
  {
   "cell_type": "markdown",
   "source": [
    "The Support Vector Machine algorithm is a classification algorithm thus it\n",
    "tries to predict the **class** of a data samemple based on its features.\n",
    "\n",
    "To start our understanding of SVM let's consider the simpler possible case \n",
    "which can be found in a set of two dimentional data (that can be expressed\n",
    "as x, y for example) which hold exactly two classes and can be **linearly** \n",
    "separated.\n",
    "\n",
    "An example of this type of data can be seen here:\n",
    "\n",
    "<img src=\"./images/SVN-2d-data.png\" style=\"width:320px\"/>\n",
    "\n",
    "Given this dataset it becomes trivial to realize and see how the two classes\n",
    "can be separated by a straigh line as follows:\n",
    "\n",
    "<img src=\"./images/SVM-2d-separated.png\" style=\"width:320px\"/>\n",
    "\n",
    "\n",
    "The two classes of data points are separated linearly but we can also notice \n",
    "that there are infinite number of such lines and in the picture above we can \n",
    "only see one of these lines (the red thick line).\n",
    "\n",
    "The question that arises here is wheather this line is the best way to separate\n",
    "the **plane** to two hald planes in such a way that predicting the class of an\n",
    "unseen data point will be the best."
   ],
   "metadata": {
    "collapsed": false,
    "pycharm": {
     "name": "#%% md\n"
    }
   }
  },
  {
   "cell_type": "markdown",
   "source": [
    "## Any separating line might not be good enough\n",
    "\n",
    "The red line that separates the plane in the picture above is not very good! \n",
    "\n",
    "We can intutively realize this by introducing a new unseen data point which is very\n",
    "close to the \"orange\" points but still based on how the line is oriented it falls \n",
    "in the opposite classification:\n",
    "\n",
    "<img src=\"./images/SVM-missed-outlier.png\" style=\"width:620px\"/>\n",
    "\n",
    "This notification leads us to the main objective of the SVM algorithm:\n",
    "\n",
    "> **The objective of the Support Vector Machine algorithm is to discover the best way to separate the plane to allow the most robust  predictions for unseen data**\n"
   ],
   "metadata": {
    "collapsed": false,
    "pycharm": {
     "name": "#%% md\n"
    }
   }
  },
  {
   "cell_type": "markdown",
   "source": [
    "## A \"better\" line to separate classes\n",
    "\n",
    "Using exactly the same data as before we can visually see and understand that the \n",
    "following (red) line that separates the two classes is much better and robust; note\n",
    "that the unseen \"new\" (orange) data point now is falling within the correct half-plane\n",
    "making our classifier better:\n",
    "\n",
    "<img src=\"./images/SVN-included-outlier.png\" style=\"width:620px\"/>\n"
   ],
   "metadata": {
    "collapsed": false,
    "pycharm": {
     "name": "#%% md\n"
    }
   }
  },
  {
   "cell_type": "markdown",
   "source": [
    "# Some useful definitions\n",
    "\n",
    "# Hyperplane\n",
    "\n",
    "A loose defintion that can serve us well when talking about SVMs is that a **Hyperplane** \n",
    "is the dataspace that has one less dimention from the dataspace we are working on.\n",
    "\n",
    "**Example of a Hyperpane**\n",
    "\n",
    "When we are working with 2 dimensional data the corresponing Hyperplane will \n",
    "be a straight line that divides the plane. An example of this can be seen in \n",
    "the red line that separated the plane in to the two classe in the above example.\n",
    "\n",
    "If we are working of a 3 dimentional space then the hyperplane will be a \n",
    "2 dimentional plane as can be seen here:\n",
    "\n",
    "<img src=\"./images/3d-hyperplane.jpeg\" style=\"width:320px\"/>\n",
    "\n",
    "\n",
    "# Support Vectors\n",
    "\n",
    "In SVM the term **support vector** refers to the sample that is closest the dividing hyperplane.\n",
    "\n",
    "\n",
    "# Margin\n",
    "\n",
    "In SVM the term **margin** refers to the distance between the **hyperplane** and the closest \n",
    "**support vector** (the larger the better).\n",
    "\n",
    "\n",
    "In this picture we can visually see the above definitions:\n",
    "\n",
    "\n",
    "<img src=\"./images/SVM-definitions.png\" style=\"width:620px\"/>\n",
    "\n",
    "\n"
   ],
   "metadata": {
    "collapsed": false,
    "pycharm": {
     "name": "#%% md\n"
    }
   }
  },
  {
   "cell_type": "markdown",
   "source": [
    "# More advanced cases for SVM\n",
    "\n",
    "The example we have seen so far is the simpler possible; SVM can be very useful\n",
    "and successful in way more complicated datasets that a plain 2D / 2 class / linear\n",
    "sepearable set.\n",
    "\n",
    "What we will see later are the following:\n",
    "\n",
    "- Handling datasets with more than two features ($x_1, x_2, .. x_n$ as opposed to only $x_1, x_2$)\n",
    "\n",
    "- Handling non-linear separable data sets\n",
    "\n",
    "\n",
    "\n"
   ],
   "metadata": {
    "collapsed": false,
    "pycharm": {
     "name": "#%% md\n"
    }
   }
  }
 ],
 "metadata": {
  "kernelspec": {
   "display_name": "Python 3 (ipykernel)",
   "language": "python",
   "name": "python3"
  },
  "language_info": {
   "codemirror_mode": {
    "name": "ipython",
    "version": 3
   },
   "file_extension": ".py",
   "mimetype": "text/x-python",
   "name": "python",
   "nbconvert_exporter": "python",
   "pygments_lexer": "ipython3",
   "version": "3.10.6"
  }
 },
 "nbformat": 4,
 "nbformat_minor": 5
}