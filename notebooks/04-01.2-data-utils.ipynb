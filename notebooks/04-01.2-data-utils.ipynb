{
 "cells": [
  {
   "cell_type": "markdown",
   "id": "7b03297e",
   "metadata": {},
   "source": [
    "## Data Scaling\n",
    "\n",
    "In several ML algorithms the range of data must be within a\n",
    "cross-feature comparable magnitude. Features that are\n",
    "measured in very different scales might need to be presented\n",
    "in the model in such a way to be comparable against each\n",
    "other.  The usual scaling is from 0 - 1.\n",
    "\n",
    "## Standarization\n",
    "\n",
    "Changes the values in such a way to created a distribution\n",
    "that is very close to normal.\n",
    "\n",
    "## Data Normalization\n",
    "\n",
    "Can be used  as either of the two above methods.\n",
    "\n",
    "## Related Scikit-Learn functions \n",
    "\n",
    "- MinMaxScaler\n",
    "- RobustScaler\n",
    "- StandardScaler\n",
    "- Nornalizer\n",
    "\n",
    "## Examples of algorithms that will be benefited by scaling\n",
    "\n",
    "- Linear / Logistic Regression\n",
    "- k-nearest neighbor\n",
    "- Neural Network\n",
    "- PCA\n",
    "- SVM\n",
    "\n",
    "\n",
    "\n",
    "\n",
    "\n",
    "# Correlation\n",
    "\n",
    "\n",
    "# Distance Calculators\n",
    "\n",
    "**Euclidean Distance**\n",
    "\n",
    "The implemenatin of the K-means requires to measure the distance of two points; there are several methods to do so and in most of the cases we are using the Euclidean Distance which is given by the following formula for two points:\n",
    "\n",
    "<img src=\"./images/euclidean-distance-two-points.png\" style=\"width:420px\"/>\n",
    "\n",
    "\n",
    "It is very simple to generalize the Euclidean Distance formula for two\n",
    "points with n dimentions as we can see here:\n",
    "\n",
    "\n",
    "<img src=\"./images/euclidean-dist-multiple-points.png\" style=\"width:420px\"/>\n",
    "\n"
   ]
  }
 ],
 "metadata": {
  "kernelspec": {
   "display_name": "Python 3 (ipykernel)",
   "language": "python",
   "name": "python3"
  },
  "language_info": {
   "codemirror_mode": {
    "name": "ipython",
    "version": 3
   },
   "file_extension": ".py",
   "mimetype": "text/x-python",
   "name": "python",
   "nbconvert_exporter": "python",
   "pygments_lexer": "ipython3",
   "version": "3.10.6"
  }
 },
 "nbformat": 4,
 "nbformat_minor": 5
}
