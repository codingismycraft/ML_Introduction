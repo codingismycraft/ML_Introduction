{
 "cells": [
  {
   "cell_type": "markdown",
   "metadata": {
    "pycharm": {
     "name": "#%% md\n"
    }
   },
   "source": [
    "## Linear Regression\n",
    "\n",
    "Linear Regression is one of the simplest, oldest and more used\n",
    "methods of data analysis and in many cases is the starting point\n",
    "when we try to derive a model by fitting a straight line to data.\n",
    "\n",
    "In its simplest version we have one independent and one depended\n",
    "variables and we are trying to a find a **linear** relationship\n",
    "between them that will allow us to make predictions based on unseen\n",
    "before values.\n"
   ]
  },
  {
   "cell_type": "code",
   "execution_count": 1,
   "metadata": {
    "pycharm": {
     "name": "#%%\n"
    }
   },
   "outputs": [],
   "source": [
    "import random\n",
    "\n",
    "import pandas as pd\n",
    "import matplotlib.pyplot as plt\n",
    "import numpy as np\n",
    "from mpl_toolkits.mplot3d import Axes3D\n"
   ]
  },
  {
   "cell_type": "code",
   "execution_count": 6,
   "metadata": {
    "pycharm": {
     "name": "#%%\n"
    }
   },
   "outputs": [],
   "source": [
    "def make_dummy_data(func, x1=0, x2=100, count=10, mu=0, sigma=65):\n",
    "    \"\"\"Creates testing data to use for simple Linear Regression.\n",
    "    \n",
    "    :param callable func: A linear function that maps the x value \n",
    "    to a y; resembles the y = ax + b functionality.\n",
    "    \n",
    "    :param float x1: The min x for the data set to return.\n",
    "    :param float x2: The max y for the data set to return.\n",
    "    :param int count: The number of the points to return.\n",
    "    :param float mu: The mean value of the residual distribution.\n",
    "    :param float sigma: The sigma value of the residual distribution.\n",
    "    \n",
    "    :returns: A tuple consisting of the x and y values that correspond\n",
    "    to the passed in parameters.\n",
    "    \n",
    "    :rtype: tuple[list, list]\n",
    "    \"\"\"\n",
    "    x_values = np.random.uniform(low=x1, high=x2, size=(count,))\n",
    "    noise = np.random.normal(mu, sigma, count)\n",
    "    y_values = []\n",
    "    for index, x in enumerate(x_values):\n",
    "        y = func(x)\n",
    "        noisy_value = y + noise[index]\n",
    "        y_values.append(noisy_value)\n",
    "    return x_values, y_values"
   ]
  },
  {
   "cell_type": "markdown",
   "metadata": {
    "pycharm": {
     "name": "#%% md\n"
    }
   },
   "source": [
    "### Developing intuition for a single-variabled linear model\n",
    "\n",
    "Using the function to make dummy data, we can simulate a random population\n",
    "of points expressed as tuples $(x,y)$ that can mimic some data that we have\n",
    "collected for a specific experiment.\n",
    "\n",
    "In our case, we now in advance the function that is combining the dependent with\n",
    "the independent variable which can be expressed in a linear format as follows:\n",
    "\n",
    "$\\Large y = a \\cdot x + b$\n",
    "\n",
    "Note that the dummy point generator is adding some random noise (normally distributed)\n",
    "to make our case study more realistic."
   ]
  },
  {
   "cell_type": "code",
   "execution_count": 3,
   "metadata": {
    "pycharm": {
     "name": "#%%\n"
    }
   },
   "outputs": [
    {
     "data": {
      "image/png": "[encoded data removed]",
      "text/plain": [
       "<Figure size 432x288 with 1 Axes>"
      ]
     },
     "metadata": {
      "needs_background": "light"
     },
     "output_type": "display_data"
    }
   ],
   "source": [
    "func = lambda x: 5 + 2.8 * x\n",
    "x_values, y_values = make_dummy_data(func=func, x1=0, x2=10 , sigma=8, count=8)\n",
    "\n",
    "max_x = int(max(x_values)) + 2\n",
    "max_y = int(max(y_values)) + 2\n",
    "\n",
    "plt.scatter(x_values, y_values, color=\"red\")\n",
    "\n",
    "# Pick a random line.\n",
    "func_1 = lambda x: 2.6 + 2.0 * x\n",
    "y_1 = [func_1(x) for x in x_values ]\n",
    "plt.plot(x_values, y_1, color='blue', linewidth=3.1)\n",
    "\n",
    "# Print the distances from the points\n",
    "delta_y = []\n",
    "for index in range(len(x_values)):\n",
    "    x = x_values[index]\n",
    "    plt.plot([x,  x] , [y_values[index], func_1(x)] , color='green', linestyle='dashed',)\n",
    "    delta_y.append((x, y_values[index] - func_1(x)))\n",
    "    \n",
    "plt.plot([x for x in range(0, max_x)], [0 for x in range(0, max_x)], color=\"black\", linewidth = 3.1)\n",
    "plt.plot([0 for x in range(0, max_y)], [y for y in range(0, max_y)], color=\"black\", linewidth = 3.1)\n",
    "\n",
    "plt.grid(color='gray', linestyle='-', linewidth=0.2)\n",
    "plt.xlabel(\"x\")\n",
    "plt.ylabel(\"y\")\n",
    "\n",
    "delta_y.sort(key= lambda p: p[0])\n",
    "df = pd.DataFrame(delta_y, columns = ['x', 'ΔY'])\n",
    "df['ΔY^2'] = df.apply(lambda row: row[\"ΔY\"]**2, axis=1)\n",
    "squares_sum =  df['ΔY'].sum()     "
   ]
  },
  {
   "cell_type": "code",
   "execution_count": null,
   "metadata": {
    "pycharm": {
     "name": "#%%\n"
    }
   },
   "outputs": [],
   "source": [
    "df"
   ]
  },
  {
   "cell_type": "markdown",
   "metadata": {
    "pycharm": {
     "name": "#%% md\n"
    }
   },
   "source": [
    "The \"blue\" line that we have ploted above is a randomnly selected one having \n",
    "arbitrary values for its **slope** ($a$) and **intercept** ($b$)"
   ]
  },
  {
   "cell_type": "markdown",
   "metadata": {
    "pycharm": {
     "name": "#%% md\n"
    }
   },
   "source": [
    "### How to find the best values for a and b\n",
    "\n",
    "From the 3-d graphical represenation that follows we can see how the observed error\n",
    "varies based on the values of $a$ and $b$.\n",
    "\n",
    "Our objective is to find out the values of both $a$ and $b$ that minimize the error.\n",
    "It is easy to realize that since the error function is monotonous, we need to find\n",
    "the values that make the derivates of them equal to zero, or expresssed more \n",
    "formally the following:\n",
    "\n",
    "$\\Large \\frac {\\partial C} {\\partial a} = 0$\n",
    "\n",
    "$\\Large \\frac {\\partial C} {\\partial b} = 0$\n"
   ]
  },
  {
   "cell_type": "code",
   "execution_count": null,
   "metadata": {
    "pycharm": {
     "name": "#%%\n"
    }
   },
   "outputs": [],
   "source": [
    "func = lambda x:3.2*x  + 2.2\n",
    "x_values, y_values = make_dummy_data(func=func,  x1=0, x2=50, mu=0, sigma=55,  count=1000)\n",
    "zis, yis, xis = [], [], []\n",
    "\n",
    "step = .05\n",
    "for a in np.arange(2, 4, step):\n",
    "    for b in np.arange(1.5, 2.2, step):\n",
    "        xis.append(a)\n",
    "        yis.append(b)\n",
    "        s = 0\n",
    "        for x, y in zip(x_values, y_values):\n",
    "            s += (a * x + b - y) **2\n",
    "        zis.append( s) \n",
    "fig = plt.figure(figsize=(8, 6), dpi=80)\n",
    "ax = plt.axes(projection ='3d')\n",
    "ax.scatter(xis, yis, zis, 'blue')\n",
    "ax.set_title('Cost Function where a and b are the input.')\n",
    "ax.set_zticks([min(zis), max(zis)])\n",
    "ax.set_xlabel(r'a', fontsize=30, rotation=0, color=\"gray\")\n",
    "ax.set_ylabel(r'b', fontsize=30, rotation=0, color=\"gray\")\n",
    "ax.set_zlabel(r'Error', fontsize=30, rotation=60, color=\"gray\")\n",
    "\n",
    "plt.show()\n"
   ]
  },
  {
   "cell_type": "markdown",
   "metadata": {
    "pycharm": {
     "name": "#%% md\n"
    }
   },
   "source": [
    "From the picture about we can visually understand why we need the partial \n",
    "derivatives of $a$ and $b$ to become zero in order to minimize the total \n",
    "error (also known as cost).  The necessary math are the following:\n",
    "\n",
    "<img src=\"./images/solving-least-squares.png\" style=\"float:left\" />\n",
    "\n",
    "\n"
   ]
  },
  {
   "cell_type": "markdown",
   "metadata": {
    "pycharm": {
     "name": "#%% md\n"
    }
   },
   "source": [
    "### Least Squares Regression Line\n",
    "\n",
    "The mathematical method to identify the best possible values for\n",
    "$a$ (**slope**) and $b$ (**y-intercept**)  is called **Least Squares\n",
    "Regression Line**\n",
    "\n",
    "An informal definition of the **Least Squares Line** is that it is the line\n",
    "that given a set of points in the plane it minimizes the sum of distances\n",
    "from them.\n",
    "\n"
   ]
  },
  {
   "cell_type": "code",
   "execution_count": null,
   "metadata": {
    "pycharm": {
     "name": "#%%\n"
    }
   },
   "outputs": [],
   "source": [
    "def solve_linear_regression(x, y):\n",
    "    \"\"\"Finds the Least Square line.\n",
    "    \n",
    "    In real world we do not need to implement this function\n",
    "    from scratch, sklearn linear model should be used instead.\n",
    "    \n",
    "    :param np.array | list x: The independed values.\n",
    "    :param np.array | list y: The depended values.\n",
    "    \n",
    "    :returns: The linear function that will make predictions \n",
    "    for the passed in x value.\n",
    "    \n",
    "    :rtype: callable.\n",
    "    \"\"\"\n",
    "    if isinstance(x, list):\n",
    "        x = np.array(x)\n",
    "        \n",
    "    if isinstance(y, list):\n",
    "        y = np.array(y)\n",
    "        \n",
    "    assert x.size == y.size\n",
    "    \n",
    "    n = x.size\n",
    "    A = np.sum(np.square(x))\n",
    "    B = np.sum(x)\n",
    "    C = np.sum(x*y)\n",
    "    D = np.sum(y)\n",
    "    \n",
    "    assert B**2 - A* n != 0\n",
    "    assert B != 0\n",
    "    \n",
    "    b = (C * B - A * D) / (B**2 - A* n)\n",
    "    a = (D - n * b) / B\n",
    "    \n",
    "    \n",
    "    return lambda x: a*x +b "
   ]
  },
  {
   "cell_type": "code",
   "execution_count": null,
   "metadata": {
    "pycharm": {
     "name": "#%%\n"
    }
   },
   "outputs": [],
   "source": [
    "func = lambda x:3.2 * x + 20\n",
    "x_values, y_values = make_dummy_data(func=func,  x1=0, x2=50, mu=0, sigma=10,  count=100)\n",
    "_ = plt.scatter(x_values, y_values, color=\"red\")\n",
    "least_squares_line =  solve_linear_regression(x_values, y_values)\n",
    "_ = plt.plot(x_values, func(x_values), color='g')\n",
    "_ = plt.plot(x_values, least_squares_line(x_values), color='b')\n",
    "plt.grid(color='gray', linestyle='-', linewidth=0.2)\n",
    "plt.xlabel(\"x\")\n",
    "plt.ylabel(\"y\")\n",
    "plt.legend([ \"Obvervations\",  'Expected line', 'Least Squares Line'])\n",
    "_ = plt.title(\"Example of how the least squares line looks\")"
   ]
  },
  {
   "cell_type": "markdown",
   "metadata": {
    "pycharm": {
     "name": "#%% md\n"
    }
   },
   "source": [
    "### Calculate Least Square line using SkLearn\n",
    "\n",
    "In real world we are not hand craft solutions to the linear regression problem as we did here; instead we use third party \n",
    "libraries that are well tested and highly optimized.\n",
    "\n",
    "In python world the most commonly used library is sklearn linear model as can be see in the following example:"
   ]
  },
  {
   "cell_type": "code",
   "execution_count": null,
   "metadata": {
    "pycharm": {
     "name": "#%%\n"
    }
   },
   "outputs": [],
   "source": [
    "from sklearn.linear_model import LinearRegression\n",
    "model = LinearRegression().fit([list(x_values)], [list(y_values)])\n",
    "x = np.array(x_values).reshape(100,1)\n",
    "y = np.array(y_values).reshape(100,1)\n",
    "model  = LinearRegression().fit(x, y)\n",
    "_ = plt.scatter(x_values, y_values, color=\"red\")\n",
    "b = model.intercept_[0]\n",
    "a = model.coef_[0][0]\n",
    "func = lambda x:x * a + b\n",
    "_ = plt.plot(x_values, func(x_values), color='b')\n",
    "plt.grid(color='gray', linestyle='-', linewidth=0.2)\n",
    "plt.xlabel(\"x\")\n",
    "plt.ylabel(\"y\")\n",
    "plt.legend([ \"Obvervations\",  'Least Squares Line'])\n",
    "_ = plt.title(\"Least squares line using sklearn\")"
   ]
  },
  {
   "cell_type": "markdown",
   "metadata": {
    "pycharm": {
     "name": "#%% md\n"
    }
   },
   "source": [
    "### Closed Solution \n",
    "\n",
    "The solution we have given above to the problem of Linear Regression is called a **closed formula** meaning that we can apply an single function and calculate the line. \n",
    "\n",
    "We will see another way that we can follow fo solve the least squares which will contain all the steps (albeit simpler) that we will use in many other methods on machine learning. \n",
    "\n",
    "\n",
    "### The  four assumptions of applying a linear regression model\n",
    "\n",
    "To apply the Least Squares solution to a set of data they need to meet several assumptions otherwise the results will not be accurate.  \n",
    "\n",
    "These assumptions can be summarized as follows:\n",
    "\n",
    "\n",
    "| Name      | Description |\n",
    "| ----------- | ----------- |\n",
    "| Linearity      | The relationship between X and the mean of Y is linear       |\n",
    "| Homoscedasticity   | The variance of residual is the same for any value of X |\n",
    "|Independence |Observations are independent of each other.|\n",
    "|Normality|For any fixed value of X, Y is normally distributed.|\n",
    "\n",
    "\n"
   ]
  },
  {
   "cell_type": "code",
   "execution_count": null,
   "metadata": {
    "pycharm": {
     "name": "#%%\n"
    }
   },
   "outputs": [],
   "source": []
  },
  {
   "cell_type": "code",
   "execution_count": null,
   "metadata": {
    "pycharm": {
     "name": "#%%\n"
    }
   },
   "outputs": [],
   "source": [
    "from sklearn.linear_model import LinearRegression\n",
    "model = LinearRegression().fit([list(x_values)], [list(y_values)])\n",
    "x = np.array(x_values).reshape(100,1)\n",
    "y = np.array(y_values).reshape(100,1)\n",
    "model  = LinearRegression().fit(x, y)\n",
    "_ = plt.scatter(x_values, y_values, color=\"red\")\n",
    "b = model.intercept_[0]\n",
    "a = model.coef_[0][0]\n",
    "func = lambda x:x * a + b\n",
    "_ = plt.plot(x_values, func(x_values), color='b')\n",
    "plt.grid(color='gray', linestyle='-', linewidth=0.2)\n",
    "plt.xlabel(\"x\")\n",
    "plt.ylabel(\"y\")\n",
    "plt.legend([ \"Obvervations\",  'Least Squares Line'])\n",
    "_ = plt.title(\"Least squares line using sklearn\")"
   ]
  },
  {
   "cell_type": "markdown",
   "metadata": {
    "pycharm": {
     "name": "#%% md\n"
    }
   },
   "source": [
    "### Closed Solution \n",
    "\n",
    "The solution we have given above to the problem of Linear Regression is called a **closed formula** meaning that we can apply an single function and calculate the line. \n",
    "\n",
    "We will see another way that we can follow fo solve the least squares which will contain all the steps (albeit simpler) that we will use in many other methods on machine learning. \n",
    "\n",
    "\n",
    "### The  four assumptions of applying a linear regression model\n",
    "\n",
    "To apply the Least Squares solution to a set of data they need to meet several assumptions otherwise the results will not be accurate.  \n",
    "\n",
    "These assumptions can be summarized as follows:\n",
    "\n",
    "\n",
    "| Name      | Description |\n",
    "| ----------- | ----------- |\n",
    "| Linearity      | The relationship between X and the mean of Y is linear       |\n",
    "| Homoscedasticity   | The variance of residual is the same for any value of X |\n",
    "|Independence |Observations are independent of each other.|\n",
    "|Normality|For any fixed value of X, Y is normally distributed.|\n",
    "\n",
    "\n"
   ]
  },
  {
   "cell_type": "code",
   "execution_count": null,
   "outputs": [],
   "source": [
    "from sklearn.linear_model import LinearRegression\n",
    "model = LinearRegression().fit([list(x_values)], [list(y_values)])\n",
    "x = np.array(x_values).reshape(100,1)\n",
    "y = np.array(y_values).reshape(100,1)\n",
    "model  = LinearRegression().fit(x, y)\n",
    "_ = plt.scatter(x_values, y_values, color=\"red\")\n",
    "b = model.intercept_[0]\n",
    "a = model.coef_[0][0]\n",
    "func = lambda x:x * a + b\n",
    "_ = plt.plot(x_values, func(x_values), color='b')\n",
    "plt.grid(color='gray', linestyle='-', linewidth=0.2)\n",
    "plt.xlabel(\"x\")\n",
    "plt.ylabel(\"y\")\n",
    "plt.legend([ \"Obvervations\",  'Least Squares Line'])\n",
    "_ = plt.title(\"Least squares line using sklearn\")"
   ],
   "metadata": {
    "collapsed": false,
    "pycharm": {
     "name": "#%%\n"
    }
   }
  },
  {
   "cell_type": "markdown",
   "source": [
    "### Closed Solution \n",
    "\n",
    "The solution we have given above to the problem of Linear Regression is called a **closed formula** meaning that we can apply an single function and calculate the line. \n",
    "\n",
    "We will see another way that we can follow fo solve the least squares which will contain all the steps (albeit simpler) that we will use in many other methods on machine learning. \n",
    "\n",
    "\n",
    "### The  four assumptions of applying a linear regression model\n",
    "\n",
    "To apply the Least Squares solution to a set of data they need to meet several assumptions otherwise the results will not be accurate.  \n",
    "\n",
    "These assumptions can be summarized as follows:\n",
    "\n",
    "\n",
    "| Name      | Description |\n",
    "| ----------- | ----------- |\n",
    "| Linearity      | The relationship between X and the mean of Y is linear       |\n",
    "| Homoscedasticity   | The variance of residual is the same for any value of X |\n",
    "|Independence |Observations are independent of each other.|\n",
    "|Normality|For any fixed value of X, Y is normally distributed.|\n",
    "\n",
    "\n"
   ],
   "metadata": {
    "collapsed": false,
    "pycharm": {
     "name": "#%% md\n"
    }
   }
  }
 ],
 "metadata": {
  "kernelspec": {
   "display_name": "Python 3 (ipykernel)",
   "language": "python",
   "name": "python3"
  },
  "language_info": {
   "codemirror_mode": {
    "name": "ipython",
    "version": 3
   },
   "file_extension": ".py",
   "mimetype": "text/x-python",
   "name": "python",
   "nbconvert_exporter": "python",
   "pygments_lexer": "ipython3",
   "version": "3.10.4"
  }
 },
 "nbformat": 4,
 "nbformat_minor": 1
}