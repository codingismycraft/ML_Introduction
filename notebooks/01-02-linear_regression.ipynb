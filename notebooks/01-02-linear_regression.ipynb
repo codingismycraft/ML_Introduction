{
 "cells": [
  {
   "cell_type": "markdown",
   "metadata": {
    "pycharm": {
     "name": "#%% md\n"
    }
   },
   "source": [
    "## Linear Regression\n",
    "\n",
    "Linear Regression is one of the simplest, oldest and more used\n",
    "methods of data analysis and in many cases is the starting point\n",
    "when we try to derive a model by fitting a straight line to data.\n",
    "\n",
    "In its simplest version we have one independent and one depended\n",
    "variables and we are trying to a find a **linear** relationship\n",
    "between them that will allow us to make predictions based on unseen\n",
    "before values.\n"
   ]
  },
  {
   "cell_type": "code",
   "execution_count": 5,
   "metadata": {
    "pycharm": {
     "name": "#%%\n"
    }
   },
   "outputs": [],
   "source": [
    "import random\n",
    "\n",
    "import pandas as pd\n",
    "import matplotlib.pyplot as plt\n",
    "import numpy as np\n"
   ]
  },
  {
   "cell_type": "code",
   "execution_count": 24,
   "metadata": {
    "pycharm": {
     "name": "#%%\n"
    }
   },
   "outputs": [],
   "source": [
    "def make_dummy_data(func, x1=0, x2=100, count=10, mu=0, sigma=65):\n",
    "    \"\"\"Creates testing data to use for simple Linear Regression.\n",
    "    \n",
    "    :param callable func: A linear function that maps the x value \n",
    "    to a y; resembles the y = ax + b functionality.\n",
    "    \n",
    "    :param float x1: The min x for the data set to return.\n",
    "    :param float y1: The max y for the data set to return.\n",
    "    :param int count: The number of the points to return.\n",
    "    :param float mu: The mean value of the residual distribution.\n",
    "    :param float sigma: The sigma value of the residual distribution.\n",
    "    \n",
    "    :returns: A tuple consisting of the x and y values that correspond\n",
    "    to the passed in parameters.\n",
    "    \n",
    "    :rtype: tuple[list, list]\n",
    "    \"\"\"\n",
    "    x_values = np.random.uniform(low=x1, high=x2, size=(count,))\n",
    "    noise = np.random.normal(mu, sigma, count)\n",
    "    y_values = []\n",
    "    for index, x in enumerate(x_values):\n",
    "        y = func(x)\n",
    "        noisy_value = y + noise[index]\n",
    "        y_values.append(noisy_value)\n",
    "    return x_values, y_values"
   ]
  },
  {
   "cell_type": "code",
   "execution_count": 25,
   "metadata": {
    "pycharm": {
     "name": "#%%\n"
    }
   },
   "outputs": [
    {
     "data": {
      "image/png": "[encoded data removed]",
      "text/plain": [
       "<Figure size 432x288 with 1 Axes>"
      ]
     },
     "metadata": {
      "needs_background": "light"
     },
     "output_type": "display_data"
    }
   ],
   "source": [
    "func = lambda x: 5 + 3.2 * x\n",
    "x_values, y_values = make_dummy_data(func=func, count=10)\n",
    "plt.scatter(x_values, y_values, color=\"red\")\n",
    "\n",
    "# Pick a random line.\n",
    "func_1 = lambda x: 2.6 + 2.0 * x\n",
    "\n",
    "y_1 = [func_1(x) for x in x_values]\n",
    "plt.plot(x_values, y_1, color='b')\n",
    "\n",
    "# Print the distances from the points\n",
    "delta_y = []\n",
    "\n",
    "for index in range(len(x_values)):\n",
    "    x = x_values[index]\n",
    "    plt.plot([x,  x] , [y_values[index], func_1(x)] , color='green', linestyle='dashed',)\n",
    "    delta_y.append((x, y_values[index] - func_1(x)))\n",
    "    \n",
    "plt.grid(color='gray', linestyle='-', linewidth=0.2)\n",
    "\n",
    "delta_y.sort(key= lambda p: p[0])\n",
    "df = pd.DataFrame(delta_y, columns = ['x', 'DY'])\n",
    "df['DYSquared'] = df.apply(lambda row: row[\"DY\"]**2, axis=1)\n",
    "squares_sum =  df['DYSquared'].sum()     "
   ]
  },
  {
   "cell_type": "markdown",
   "metadata": {
    "pycharm": {
     "name": "#%% md\n"
    }
   },
   "source": [
    "### Least Squares Regression Line\n",
    "\n",
    "The mathematical method to identify the best possible values for\n",
    "$a$ (**y-intercept**) and $b$ (**slope**) is called **Least Squares\n",
    "Regression Line**\n",
    "\n",
    "An informal definition of the **Least Squares Line** is that it is the line\n",
    "that given a set of points in the plane it minimizes the sum of distances\n",
    "from them.\n",
    "\n"
   ]
  },
  {
   "cell_type": "code",
   "execution_count": 9,
   "metadata": {
    "pycharm": {
     "name": "#%%\n"
    }
   },
   "outputs": [],
   "source": [
    "def solve_linear_regression(x, y):\n",
    "    \"\"\"Finds the Least Square line.\n",
    "    \n",
    "    :param np.array | list x: The independed values.\n",
    "    :param np.array | list y: The depended values.\n",
    "    \n",
    "    :returns: The linear function that will make predictions \n",
    "    for the passed in x value.\n",
    "    \n",
    "    :rtype: callable.\n",
    "    \"\"\"\n",
    "    if isinstance(x, list):\n",
    "        x = np.array(x)\n",
    "        \n",
    "    if isinstance(y, list):\n",
    "        y = np.array(y)\n",
    "        \n",
    "    assert x.size == y.size\n",
    "    \n",
    "    n = x.size\n",
    "    A = np.sum(np.square(x))\n",
    "    B = np.sum(x)\n",
    "    C = np.sum(x*y)\n",
    "    D = np.sum(y)\n",
    "    \n",
    "    assert B**2 - A* n != 0\n",
    "    assert B != 0\n",
    "    \n",
    "    b = (C * B - A * D) / (B**2 - A* n)\n",
    "    a = (D - n * b) / B\n",
    "    \n",
    "    print (a, b)\n",
    "    \n",
    "    return lambda x: a*x +b "
   ]
  },
  {
   "cell_type": "code",
   "execution_count": 10,
   "metadata": {
    "pycharm": {
     "name": "#%%\n"
    }
   },
   "outputs": [
    {
     "name": "stdout",
     "output_type": "stream",
     "text": [
      "3.208793190940213 19.876766818659686\n"
     ]
    },
    {
     "data": {
      "image/png": "[encoded data removed]",
      "text/plain": [
       "<Figure size 432x288 with 1 Axes>"
      ]
     },
     "metadata": {
      "needs_background": "light"
     },
     "output_type": "display_data"
    }
   ],
   "source": [
    "func = lambda x:3.2 * x + 20\n",
    "x_values, y_values = make_dummy_data(func=func,  x1=0, x2=50, mu=0, sigma=10,  count=10000)\n",
    "plt.scatter(x_values, y_values, color=\"red\")\n",
    "foo =  solve_linear_regression(x_values, y_values)\n",
    "\n",
    "_ = plt.plot(x_values, foo(x_values), color='b')\n",
    "_ = plt.plot(x_values, func(x_values), color='g')"
   ]
  },
  {
   "cell_type": "markdown",
   "metadata": {
    "pycharm": {
     "name": "#%% md\n"
    }
   },
   "source": [
    "### Proof\n",
    "\n",
    "We are given a set of $x$ and $y$ and we start with the assumption that there\n",
    "exists a linear function that can connect them, in a more formal language what\n",
    "we are given and what we will try to discover is a function like the following:\n",
    "\n",
    "we are given an array of $x_i$  and $y_i$values\n",
    "\n",
    "and we try to find $a$ and $b$ to fit the distribution:\n",
    "\n",
    "$y = ax + b$\n",
    "\n",
    "For each $x_i$ that we are given the error that the abobe line will have when\n",
    "calculating the corresponding y value will be given from the following formula:\n",
    "\n",
    "$E_i = y_i - (ax_i + b) $\n",
    "\n",
    "to avoid negative values the common practice will be to square the error as can be seen here:\n",
    "\n",
    "$E_i = (y_i - (ax_i + b)) ^2 $\n",
    "\n",
    "which can be written as follows for the cumulative error of the available data:\n",
    "\n",
    "$E=\\sum_{k=1}^n (y_i - (ax_i + b)) ^2$\n",
    "\n",
    "Since we are trying to minimize E, meaning to find the values of $a$, $b$ that will\n",
    "make the expression minimum, we can try to find the derivative of the expression and\n",
    "find what value will make it zero.  Since we have two unknowns we will need to find the \n",
    "values that will make the corresponding partial derivatives equal to zero:\n",
    "\n",
    "$\\Large \\frac{\\partial E} {\\partial a} = 0$\n",
    "\n",
    "\n",
    "$\\Large \\frac{\\partial E} {\\partial b} = 0$\n",
    "\n",
    "________________\n",
    "Let's set:\n",
    "$\\Large u = ax_i + b $ \n",
    "\n",
    "so \n",
    "\n",
    "$\\Large \\frac{\\partial u} {\\partial a} = x_i$ and $\\Large \\frac{\\partial u} {\\partial b} = 1$\n",
    "\n",
    "The rest of the proof can be seen the following images:\n",
    "\n",
    "\n",
    "\n",
    "<img src=\"./images/simple-linear-regression-1.jpg\" style=\"float:left;width:420px;\" alt=\"calculating the linear regression 1\"/>\n",
    "\n",
    "\n",
    "<img src=\"./images/simple-linear-regression-2.jpg\" style=\"float:right;width:420px;\" alt=\"calculating the linear regression 2\"/>\n",
    "\n"
   ]
  },
  {
   "cell_type": "markdown",
   "metadata": {
    "pycharm": {
     "name": "#%% md\n"
    }
   },
   "source": [
    "### Closed Solution \n",
    "\n",
    "The solution we have given above to the problem of Linear Regression is called a **closed formula** meaning that we can apply an single function and calculate the line. \n",
    "\n",
    "We will see another way that we can follow fo solve the least squares which will contain all the steps (albeit simpler) that we will use in many other methods on machine learning. \n",
    "\n",
    "\n",
    "### The  four assumptions of applying a linear regression model\n",
    "\n",
    "| Name      | Description |\n",
    "| ----------- | ----------- |\n",
    "| Linearity      | The relationship between X and the mean of Y is linear       |\n",
    "| Homoscedasticity   | The variance of residual is the same for any value of X |\n",
    "|Independence |Observations are independent of each other.|\n",
    "|Normality|For any fixed value of X, Y is normally distributed.|\n",
    "\n",
    "\n"
   ]
  }
 ],
 "metadata": {
  "kernelspec": {
   "display_name": "Python 3 (ipykernel)",
   "language": "python",
   "name": "python3"
  },
  "language_info": {
   "codemirror_mode": {
    "name": "ipython",
    "version": 3
   },
   "file_extension": ".py",
   "mimetype": "text/x-python",
   "name": "python",
   "nbconvert_exporter": "python",
   "pygments_lexer": "ipython3",
   "version": "3.10.4"
  }
 },
 "nbformat": 4,
 "nbformat_minor": 1
}